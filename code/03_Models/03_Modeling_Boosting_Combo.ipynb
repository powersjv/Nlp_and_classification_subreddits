{
 "cells": [
  {
   "cell_type": "markdown",
   "id": "be290856-1857-40c7-89f4-80aa49af8604",
   "metadata": {},
   "source": [
    "# Modeling\n",
    "___\n",
    "\n",
    "Below is a Random Forest Model using a Pipeline and Count Vectorization. Accuracy = %.\n",
    "\n",
    "---\n",
    "\n",
    "### Import Libraries"
   ]
  },
  {
   "cell_type": "code",
   "execution_count": 1,
   "id": "1b6b72bc-8aad-4721-aaf5-1d34ee22c67d",
   "metadata": {},
   "outputs": [],
   "source": [
    "import pandas as pd\n",
    "import numpy as np\n",
    "import seaborn as sns\n",
    "import matplotlib.pyplot as plt\n",
    "\n",
    "from sklearn.linear_model import LogisticRegression\n",
    "from sklearn.feature_extraction.text import CountVectorizer\n",
    "from sklearn.pipeline import Pipeline\n",
    "from sklearn.model_selection import train_test_split, cross_val_score, RandomizedSearchCV\n",
    "from sklearn.metrics import plot_confusion_matrix, confusion_matrix\n",
    "import sklearn.metrics as metrics\n",
    "from sklearn.ensemble import RandomForestClassifier\n",
    "from sklearn.ensemble import GradientBoostingClassifier, AdaBoostClassifier, VotingClassifier"
   ]
  },
  {
   "cell_type": "markdown",
   "id": "bb90739e-854f-4ec4-a157-d7b97b086a45",
   "metadata": {},
   "source": [
    "## Load the data\n",
    "---"
   ]
  },
  {
   "cell_type": "code",
   "execution_count": 2,
   "id": "751e0380-cf91-4566-8062-a8b7849af445",
   "metadata": {},
   "outputs": [
    {
     "data": {
      "text/html": [
       "<div>\n",
       "<style scoped>\n",
       "    .dataframe tbody tr th:only-of-type {\n",
       "        vertical-align: middle;\n",
       "    }\n",
       "\n",
       "    .dataframe tbody tr th {\n",
       "        vertical-align: top;\n",
       "    }\n",
       "\n",
       "    .dataframe thead th {\n",
       "        text-align: right;\n",
       "    }\n",
       "</style>\n",
       "<table border=\"1\" class=\"dataframe\">\n",
       "  <thead>\n",
       "    <tr style=\"text-align: right;\">\n",
       "      <th></th>\n",
       "      <th>author</th>\n",
       "      <th>title</th>\n",
       "      <th>selftext</th>\n",
       "      <th>created_utc</th>\n",
       "      <th>title_selftext</th>\n",
       "      <th>title_text_length</th>\n",
       "      <th>title_text_word_count</th>\n",
       "      <th>subreddit_target</th>\n",
       "    </tr>\n",
       "  </thead>\n",
       "  <tbody>\n",
       "    <tr>\n",
       "      <th>0</th>\n",
       "      <td>RealDaveCorey</td>\n",
       "      <td>Trying to straighten my leaning garage, was th...</td>\n",
       "      <td>Hi, I'm looking at torturing my leaning garage...</td>\n",
       "      <td>1645985955</td>\n",
       "      <td>trying to straighten my leaning garage wa the ...</td>\n",
       "      <td>1136</td>\n",
       "      <td>219</td>\n",
       "      <td>0</td>\n",
       "    </tr>\n",
       "    <tr>\n",
       "      <th>1</th>\n",
       "      <td>ZeroCool1</td>\n",
       "      <td>Thoughts from two years into purchasing a fixe...</td>\n",
       "      <td>A few random thoughts after I've wrestled with...</td>\n",
       "      <td>1645985873</td>\n",
       "      <td>thought from two year into purchasing a fixer ...</td>\n",
       "      <td>4077</td>\n",
       "      <td>816</td>\n",
       "      <td>0</td>\n",
       "    </tr>\n",
       "    <tr>\n",
       "      <th>2</th>\n",
       "      <td>gwenstellamade</td>\n",
       "      <td>HELP! Fireplace contractors screwed up the job</td>\n",
       "      <td>So, I’m in a bit of a pickle with my current f...</td>\n",
       "      <td>1645985865</td>\n",
       "      <td>help fireplace contractor screwed up the jobso...</td>\n",
       "      <td>1795</td>\n",
       "      <td>351</td>\n",
       "      <td>0</td>\n",
       "    </tr>\n",
       "    <tr>\n",
       "      <th>3</th>\n",
       "      <td>happybaconbit</td>\n",
       "      <td>Kitchen cabinet track is broken. How do I fix it?</td>\n",
       "      <td>Photo: https://imgur.com/a/XgNq0iG \\n\\nIt’s be...</td>\n",
       "      <td>1645985826</td>\n",
       "      <td>kitchen cabinet track is broken how do i fix i...</td>\n",
       "      <td>248</td>\n",
       "      <td>55</td>\n",
       "      <td>0</td>\n",
       "    </tr>\n",
       "    <tr>\n",
       "      <th>4</th>\n",
       "      <td>stonetime10</td>\n",
       "      <td>OTR microwave with stud In the way</td>\n",
       "      <td>Hello everyone,\\nI am almost finished my basem...</td>\n",
       "      <td>1645985457</td>\n",
       "      <td>otr microwave with stud in the wayhello everyo...</td>\n",
       "      <td>709</td>\n",
       "      <td>139</td>\n",
       "      <td>0</td>\n",
       "    </tr>\n",
       "  </tbody>\n",
       "</table>\n",
       "</div>"
      ],
      "text/plain": [
       "           author                                              title  \\\n",
       "0   RealDaveCorey  Trying to straighten my leaning garage, was th...   \n",
       "1       ZeroCool1  Thoughts from two years into purchasing a fixe...   \n",
       "2  gwenstellamade     HELP! Fireplace contractors screwed up the job   \n",
       "3   happybaconbit  Kitchen cabinet track is broken. How do I fix it?   \n",
       "4     stonetime10                 OTR microwave with stud In the way   \n",
       "\n",
       "                                            selftext  created_utc  \\\n",
       "0  Hi, I'm looking at torturing my leaning garage...   1645985955   \n",
       "1  A few random thoughts after I've wrestled with...   1645985873   \n",
       "2  So, I’m in a bit of a pickle with my current f...   1645985865   \n",
       "3  Photo: https://imgur.com/a/XgNq0iG \\n\\nIt’s be...   1645985826   \n",
       "4  Hello everyone,\\nI am almost finished my basem...   1645985457   \n",
       "\n",
       "                                      title_selftext  title_text_length  \\\n",
       "0  trying to straighten my leaning garage wa the ...               1136   \n",
       "1  thought from two year into purchasing a fixer ...               4077   \n",
       "2  help fireplace contractor screwed up the jobso...               1795   \n",
       "3  kitchen cabinet track is broken how do i fix i...                248   \n",
       "4  otr microwave with stud in the wayhello everyo...                709   \n",
       "\n",
       "   title_text_word_count  subreddit_target  \n",
       "0                    219                 0  \n",
       "1                    816                 0  \n",
       "2                    351                 0  \n",
       "3                     55                 0  \n",
       "4                    139                 0  "
      ]
     },
     "execution_count": 2,
     "metadata": {},
     "output_type": "execute_result"
    }
   ],
   "source": [
    "df = pd.read_csv('../../data/data_clean_combo_20220302-111425.csv')\n",
    "df.drop(columns = 'Unnamed: 0', inplace=True)\n",
    "df.head()"
   ]
  },
  {
   "cell_type": "markdown",
   "id": "29175f74-9def-4a67-b6e4-9b64cc9040b7",
   "metadata": {},
   "source": [
    "## Create X and y\n",
    "---"
   ]
  },
  {
   "cell_type": "code",
   "execution_count": 3,
   "id": "56c7dd93-4657-4b73-acc2-5537e6750c45",
   "metadata": {},
   "outputs": [
    {
     "data": {
      "text/plain": [
       "0    trying to straighten my leaning garage wa the ...\n",
       "1    thought from two year into purchasing a fixer ...\n",
       "2    help fireplace contractor screwed up the jobso...\n",
       "3    kitchen cabinet track is broken how do i fix i...\n",
       "4    otr microwave with stud in the wayhello everyo...\n",
       "Name: title_selftext, dtype: object"
      ]
     },
     "execution_count": 3,
     "metadata": {},
     "output_type": "execute_result"
    }
   ],
   "source": [
    "X = df['title_selftext']\n",
    "X.head()"
   ]
  },
  {
   "cell_type": "code",
   "execution_count": 4,
   "id": "24c30602-6fff-4a25-8bd1-397d555fc3a3",
   "metadata": {},
   "outputs": [],
   "source": [
    "y = df['subreddit_target']"
   ]
  },
  {
   "cell_type": "markdown",
   "id": "fe67d246-c5b3-4c61-9e03-f04f265a0c1a",
   "metadata": {},
   "source": [
    "## Baseline Accuracy\n",
    "---"
   ]
  },
  {
   "cell_type": "code",
   "execution_count": 5,
   "id": "1fa44bfb-5fa6-42ba-a458-943701293a94",
   "metadata": {},
   "outputs": [
    {
     "data": {
      "text/plain": [
       "0    0.502137\n",
       "1    0.497863\n",
       "Name: subreddit_target, dtype: float64"
      ]
     },
     "execution_count": 5,
     "metadata": {},
     "output_type": "execute_result"
    }
   ],
   "source": [
    "y.value_counts(normalize = True)"
   ]
  },
  {
   "cell_type": "markdown",
   "id": "271343eb-22ed-4c1d-bf42-de2759c03b31",
   "metadata": {},
   "source": [
    "It is essentially a 50/50 split. There is a slight preference towards HomeImprovement. So the baseline/null model will predict HomeImprovement and be accurate about 50% of the time. "
   ]
  },
  {
   "cell_type": "markdown",
   "id": "b3e91272-ab44-4010-a795-ba0868d95b41",
   "metadata": {},
   "source": [
    "## Train - Test Split\n",
    "---"
   ]
  },
  {
   "cell_type": "code",
   "execution_count": 6,
   "id": "a489281a-a065-4bbf-b7b5-1cca9a12823b",
   "metadata": {},
   "outputs": [],
   "source": [
    "X_train, X_test, y_train, y_test = train_test_split(X, y, random_state = 33, stratify = y)"
   ]
  },
  {
   "cell_type": "markdown",
   "id": "d023475d-2385-4e2b-a09c-079872c7a31c",
   "metadata": {},
   "source": [
    "Want to keep the split to about 50/50 for the model, hence why this is being stratified."
   ]
  },
  {
   "cell_type": "markdown",
   "id": "6d924906-cdd5-40fa-a6f7-4cbd29412ec9",
   "metadata": {},
   "source": [
    "## Pipeline/Vote\n",
    "---\n",
    "Will start with a pipeline including Count Vectorization and a logistic regresison model."
   ]
  },
  {
   "cell_type": "code",
   "execution_count": 7,
   "id": "aad7a3e2-58bb-4604-bace-f28579e69e0f",
   "metadata": {},
   "outputs": [],
   "source": [
    "vote = VotingClassifier([\n",
    "    ('ada', AdaBoostClassifier()),\n",
    "    ('gb', GradientBoostingClassifier()),\n",
    "    ('logreg', LogisticRegression(solver = 'liblinear')),\n",
    "    ('forest', RandomForestClassifier())\n",
    "])\n",
    "\n",
    "pipe = Pipeline([\n",
    "    ('vect', CountVectorizer()),\n",
    "    ('vote', vote)\n",
    "])"
   ]
  },
  {
   "cell_type": "markdown",
   "id": "c1be6b22-8baf-4660-a727-8b00a989f6e7",
   "metadata": {},
   "source": [
    "## GridSearchCV\n",
    "___"
   ]
  },
  {
   "cell_type": "code",
   "execution_count": 8,
   "id": "c913407d-33b1-4a7d-9a74-e68b49e2df5e",
   "metadata": {},
   "outputs": [
    {
     "name": "stdout",
     "output_type": "stream",
     "text": [
      "0.9436623835058964\n"
     ]
    },
    {
     "data": {
      "text/plain": [
       "{'vect__stop_words': None,\n",
       " 'vect__min_df': 1,\n",
       " 'vect__max_df': 0.25,\n",
       " 'vect__binary': True}"
      ]
     },
     "execution_count": 8,
     "metadata": {},
     "output_type": "execute_result"
    }
   ],
   "source": [
    "vote_params ={\n",
    "     'vect__stop_words': [None, 'english'], \n",
    "     'vect__min_df': range(1, 10, 2), \n",
    "     'vect__max_df': [1.0, 0.75, 0.5, 0.25], #0.4, 0.3, \n",
    "     'vect__binary': [True, False],\n",
    "#     'forest__n_estimators': [50, 75, 100, 125],\n",
    "#     'forest__max_depth': [None, 3, 4, 5], \n",
    "#     'forest__max_features': ['auto']\n",
    "}\n",
    "\n",
    "rs = RandomizedSearchCV(pipe, param_distributions = vote_params)\n",
    "\n",
    "rs.fit(X_train, y_train)\n",
    "print(rs.best_score_) \n",
    "rs.best_params_"
   ]
  },
  {
   "cell_type": "markdown",
   "id": "63a9e38a-8bfd-4cbb-aa09-2b318f67d510",
   "metadata": {},
   "source": [
    "## Model Evaluation\n",
    "---\n",
    "\n",
    "Using the GridSearch model above. "
   ]
  },
  {
   "cell_type": "code",
   "execution_count": 9,
   "id": "eb7cd8f5-18a2-4314-8032-ba2e8e642711",
   "metadata": {},
   "outputs": [],
   "source": [
    "y_pred = rs.predict(X_test)\n",
    "\n",
    "cf_matrix = confusion_matrix(y_test, y_pred)"
   ]
  },
  {
   "cell_type": "code",
   "execution_count": 10,
   "id": "9bf6b0c2-29e2-446b-844b-d1bc2b689e0b",
   "metadata": {},
   "outputs": [
    {
     "data": {
      "text/plain": [
       "<sklearn.metrics._plot.confusion_matrix.ConfusionMatrixDisplay at 0x7fb52d65b970>"
      ]
     },
     "execution_count": 10,
     "metadata": {},
     "output_type": "execute_result"
    },
    {
     "data": {
      "image/png": "[encoded data removed]",
      "text/plain": [
       "<Figure size 432x288 with 2 Axes>"
      ]
     },
     "metadata": {
      "needs_background": "light"
     },
     "output_type": "display_data"
    }
   ],
   "source": [
    "plot_confusion_matrix(rs, X_test, y_test, display_labels= ['Home Improvement', 'Real Estate Investing'])"
   ]
  },
  {
   "cell_type": "markdown",
   "id": "ef46ff0f-a059-4597-8b3e-41f17f452522",
   "metadata": {},
   "source": [
    "The below function was created by Dennis T, a contributor on the Medium blog Towards Data Science. He explained in this [blog post](https://medium.com/@dtuk81/confusion-matrix-visualization-fc31e3f30fea) how to use the code and supplied it [here](https://github.com/DTrimarchi10/confusion_matrix/blob/master/cf_matrix.py)."
   ]
  },
  {
   "cell_type": "code",
   "execution_count": 11,
   "id": "cc3e9577-40bc-407a-98cc-527d09a4e0db",
   "metadata": {},
   "outputs": [],
   "source": [
    "def make_confusion_matrix(cf,\n",
    "                          group_names=None,\n",
    "                          categories='auto',\n",
    "                          count=True,\n",
    "                          percent=True,\n",
    "                          cbar=True,\n",
    "                          xyticks=True,\n",
    "                          xyplotlabels=True,\n",
    "                          sum_stats=True,\n",
    "                          figsize=None,\n",
    "                          cmap='Blues',\n",
    "                          title=None):\n",
    "    '''\n",
    "    This function will make a pretty plot of an sklearn Confusion Matrix cm using a Seaborn heatmap visualization.\n",
    "    Arguments\n",
    "    ---------\n",
    "    cf:            confusion matrix to be passed in\n",
    "    group_names:   List of strings that represent the labels row by row to be shown in each square.\n",
    "    categories:    List of strings containing the categories to be displayed on the x,y axis. Default is 'auto'\n",
    "    count:         If True, show the raw number in the confusion matrix. Default is True.\n",
    "    normalize:     If True, show the proportions for each category. Default is True.\n",
    "    cbar:          If True, show the color bar. The cbar values are based off the values in the confusion matrix.\n",
    "                   Default is True.\n",
    "    xyticks:       If True, show x and y ticks. Default is True.\n",
    "    xyplotlabels:  If True, show 'True Label' and 'Predicted Label' on the figure. Default is True.\n",
    "    sum_stats:     If True, display summary statistics below the figure. Default is True.\n",
    "    figsize:       Tuple representing the figure size. Default will be the matplotlib rcParams value.\n",
    "    cmap:          Colormap of the values displayed from matplotlib.pyplot.cm. Default is 'Blues'\n",
    "                   See http://matplotlib.org/examples/color/colormaps_reference.html\n",
    "                   \n",
    "    title:         Title for the heatmap. Default is None.\n",
    "    '''\n",
    "\n",
    "\n",
    "    # CODE TO GENERATE TEXT INSIDE EACH SQUARE\n",
    "    blanks = ['' for i in range(cf.size)]\n",
    "\n",
    "    if group_names and len(group_names)==cf.size:\n",
    "        group_labels = [\"{}\\n\".format(value) for value in group_names]\n",
    "    else:\n",
    "        group_labels = blanks\n",
    "\n",
    "    if count:\n",
    "        group_counts = [\"{0:0.0f}\\n\".format(value) for value in cf.flatten()]\n",
    "    else:\n",
    "        group_counts = blanks\n",
    "\n",
    "    if percent:\n",
    "        group_percentages = [\"{0:.2%}\".format(value) for value in cf.flatten()/np.sum(cf)]\n",
    "    else:\n",
    "        group_percentages = blanks\n",
    "\n",
    "    box_labels = [f\"{v1}{v2}{v3}\".strip() for v1, v2, v3 in zip(group_labels,group_counts,group_percentages)]\n",
    "    box_labels = np.asarray(box_labels).reshape(cf.shape[0],cf.shape[1])\n",
    "\n",
    "\n",
    "    # CODE TO GENERATE SUMMARY STATISTICS & TEXT FOR SUMMARY STATS\n",
    "    if sum_stats:\n",
    "        #Accuracy is sum of diagonal divided by total observations\n",
    "        accuracy  = np.trace(cf) / float(np.sum(cf))\n",
    "\n",
    "        #if it is a binary confusion matrix, show some more stats\n",
    "        if len(cf)==2:\n",
    "            #Metrics for Binary Confusion Matrices\n",
    "            precision = cf[1,1] / sum(cf[:,1])\n",
    "            recall    = cf[1,1] / sum(cf[1,:])\n",
    "            f1_score  = 2*precision*recall / (precision + recall)\n",
    "            stats_text = \"\\n\\nAccuracy={:0.3f}\\nPrecision={:0.3f}\\nRecall={:0.3f}\\nF1 Score={:0.3f}\".format(\n",
    "                accuracy,precision,recall,f1_score)\n",
    "        else:\n",
    "            stats_text = \"\\n\\nAccuracy={:0.3f}\".format(accuracy)\n",
    "    else:\n",
    "        stats_text = \"\"\n",
    "\n",
    "\n",
    "    # SET FIGURE PARAMETERS ACCORDING TO OTHER ARGUMENTS\n",
    "    if figsize==None:\n",
    "        #Get default figure size if not set\n",
    "        figsize = plt.rcParams.get('figure.figsize')\n",
    "\n",
    "    if xyticks==False:\n",
    "        #Do not show categories if xyticks is False\n",
    "        categories=False\n",
    "\n",
    "\n",
    "    # MAKE THE HEATMAP VISUALIZATION\n",
    "    plt.figure(figsize=figsize)\n",
    "    sns.heatmap(cf,annot=box_labels,fmt=\"\",cmap=cmap,cbar=cbar,xticklabels=categories,yticklabels=categories)\n",
    "\n",
    "    if xyplotlabels:\n",
    "        plt.ylabel('True label')\n",
    "        plt.xlabel('Predicted label' + stats_text)\n",
    "    else:\n",
    "        plt.xlabel(stats_text)\n",
    "    \n",
    "    if title:\n",
    "        plt.title(title)"
   ]
  },
  {
   "cell_type": "code",
   "execution_count": 21,
   "id": "3e10603c-0f49-4cd1-b55e-070dda55bda2",
   "metadata": {},
   "outputs": [
    {
     "data": {
      "image/png": "[encoded data removed]",
      "text/plain": [
       "<Figure size 432x288 with 1 Axes>"
      ]
     },
     "metadata": {
      "needs_background": "light"
     },
     "output_type": "display_data"
    }
   ],
   "source": [
    "labels = ['True Neg','False Pos','False Neg','True Pos']\n",
    "categories = ['Home Improvement', 'Real Estate Investing']\n",
    "\n",
    "make_confusion_matrix(cf_matrix, \n",
    "                      group_names=labels,\n",
    "                      categories=categories, \n",
    "                      cmap='binary',\n",
    "                      cbar=False,\n",
    "                     title = 'Boosting Model')\n",
    "\n",
    "plt.savefig(\"../../images/boosting_matrix.jpg\", bbox_inches=\"tight\", dpi=100);"
   ]
  },
  {
   "cell_type": "code",
   "execution_count": 14,
   "id": "ea1fc149-0a31-4c44-bd1d-2afb42fbaaa5",
   "metadata": {},
   "outputs": [
    {
     "name": "stdout",
     "output_type": "stream",
     "text": [
      "Train Score = 0.9785378940308518\n",
      "Test Score = 0.9407035175879397\n",
      "Cross Val Score = 0.9416489606871045\n",
      "Accuracy Score = 0.9407035175879397\n",
      "Recall Score = 0.9353535353535354\n",
      "Precision Score = 0.9448979591836735\n",
      "Specificity Score = 0.946\n"
     ]
    }
   ],
   "source": [
    "trainscore = rs.score(X_train, y_train)\n",
    "testscore = rs.score(X_test, y_test)\n",
    "crossval = cross_val_score(rs, X_train, y_train).mean()\n",
    "preds = rs.predict(X_test)\n",
    "tn, fp, fn, tp = metrics.confusion_matrix(y_test, preds).ravel()\n",
    "recall = metrics.recall_score(y_test, preds)\n",
    "precision = metrics.precision_score(y_test, preds)\n",
    "accuracy = testscore\n",
    "specificity = tn / (tn + fp)\n",
    "\n",
    "print (f'Train Score = {trainscore}')\n",
    "print (f'Test Score = {testscore}')\n",
    "print (f'Cross Val Score = {crossval}')\n",
    "print (f'Accuracy Score = {testscore}')\n",
    "print (f'Recall Score = {recall}')\n",
    "print (f'Precision Score = {precision}')\n",
    "print (f'Specificity Score = {specificity}')"
   ]
  },
  {
   "cell_type": "markdown",
   "id": "0b86d81a-dac2-40ca-b735-27b10b70af39",
   "metadata": {},
   "source": [
    "This model falls below the Logistic Regression Model in terms of Accuracy. The false negative and false positives are more balanced though."
   ]
  },
  {
   "cell_type": "code",
   "execution_count": null,
   "id": "0d0cfd1d-ee5b-4d1e-a11c-efcf26078c76",
   "metadata": {},
   "outputs": [],
   "source": []
  }
 ],
 "metadata": {
  "kernelspec": {
   "display_name": "Python 3 (ipykernel)",
   "language": "python",
   "name": "python3"
  },
  "language_info": {
   "codemirror_mode": {
    "name": "ipython",
    "version": 3
   },
   "file_extension": ".py",
   "mimetype": "text/x-python",
   "name": "python",
   "nbconvert_exporter": "python",
   "pygments_lexer": "ipython3",
   "version": "3.9.7"
  }
 },
 "nbformat": 4,
 "nbformat_minor": 5
}
