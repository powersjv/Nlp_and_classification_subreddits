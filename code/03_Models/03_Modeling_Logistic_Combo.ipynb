{
 "cells": [
  {
   "cell_type": "markdown",
   "id": "be290856-1857-40c7-89f4-80aa49af8604",
   "metadata": {},
   "source": [
    "# Modeling\n",
    "___\n",
    "\n",
    "This model is created using title and selftext together.\n",
    "\n",
    "Below is a Logisitc Regression Model using a Pipeline and Count Vectorization. Accuracy = 94.4%.\n",
    "\n",
    "---\n",
    "\n",
    "### Import Libraries"
   ]
  },
  {
   "cell_type": "code",
   "execution_count": 1,
   "id": "1b6b72bc-8aad-4721-aaf5-1d34ee22c67d",
   "metadata": {},
   "outputs": [],
   "source": [
    "import pandas as pd\n",
    "import numpy as np\n",
    "import seaborn as sns\n",
    "import matplotlib.pyplot as plt\n",
    "\n",
    "from sklearn.linear_model import LogisticRegression\n",
    "from sklearn.feature_extraction.text import CountVectorizer, TfidfVectorizer\n",
    "from sklearn.pipeline import Pipeline\n",
    "from sklearn.model_selection import train_test_split, GridSearchCV, cross_val_score\n",
    "from sklearn.metrics import plot_confusion_matrix, confusion_matrix\n",
    "import sklearn.metrics as metrics"
   ]
  },
  {
   "cell_type": "markdown",
   "id": "bb90739e-854f-4ec4-a157-d7b97b086a45",
   "metadata": {},
   "source": [
    "## Load the data\n",
    "---"
   ]
  },
  {
   "cell_type": "code",
   "execution_count": 2,
   "id": "751e0380-cf91-4566-8062-a8b7849af445",
   "metadata": {},
   "outputs": [
    {
     "data": {
      "text/html": [
       "<div>\n",
       "<style scoped>\n",
       "    .dataframe tbody tr th:only-of-type {\n",
       "        vertical-align: middle;\n",
       "    }\n",
       "\n",
       "    .dataframe tbody tr th {\n",
       "        vertical-align: top;\n",
       "    }\n",
       "\n",
       "    .dataframe thead th {\n",
       "        text-align: right;\n",
       "    }\n",
       "</style>\n",
       "<table border=\"1\" class=\"dataframe\">\n",
       "  <thead>\n",
       "    <tr style=\"text-align: right;\">\n",
       "      <th></th>\n",
       "      <th>author</th>\n",
       "      <th>title</th>\n",
       "      <th>selftext</th>\n",
       "      <th>created_utc</th>\n",
       "      <th>title_selftext</th>\n",
       "      <th>title_text_length</th>\n",
       "      <th>title_text_word_count</th>\n",
       "      <th>subreddit_target</th>\n",
       "    </tr>\n",
       "  </thead>\n",
       "  <tbody>\n",
       "    <tr>\n",
       "      <th>0</th>\n",
       "      <td>RealDaveCorey</td>\n",
       "      <td>Trying to straighten my leaning garage, was th...</td>\n",
       "      <td>Hi, I'm looking at torturing my leaning garage...</td>\n",
       "      <td>1645985955</td>\n",
       "      <td>trying to straighten my leaning garage wa the ...</td>\n",
       "      <td>1136</td>\n",
       "      <td>219</td>\n",
       "      <td>0</td>\n",
       "    </tr>\n",
       "    <tr>\n",
       "      <th>1</th>\n",
       "      <td>ZeroCool1</td>\n",
       "      <td>Thoughts from two years into purchasing a fixe...</td>\n",
       "      <td>A few random thoughts after I've wrestled with...</td>\n",
       "      <td>1645985873</td>\n",
       "      <td>thought from two year into purchasing a fixer ...</td>\n",
       "      <td>4077</td>\n",
       "      <td>816</td>\n",
       "      <td>0</td>\n",
       "    </tr>\n",
       "    <tr>\n",
       "      <th>2</th>\n",
       "      <td>gwenstellamade</td>\n",
       "      <td>HELP! Fireplace contractors screwed up the job</td>\n",
       "      <td>So, I’m in a bit of a pickle with my current f...</td>\n",
       "      <td>1645985865</td>\n",
       "      <td>help fireplace contractor screwed up the jobso...</td>\n",
       "      <td>1795</td>\n",
       "      <td>351</td>\n",
       "      <td>0</td>\n",
       "    </tr>\n",
       "    <tr>\n",
       "      <th>3</th>\n",
       "      <td>happybaconbit</td>\n",
       "      <td>Kitchen cabinet track is broken. How do I fix it?</td>\n",
       "      <td>Photo: https://imgur.com/a/XgNq0iG \\n\\nIt’s be...</td>\n",
       "      <td>1645985826</td>\n",
       "      <td>kitchen cabinet track is broken how do i fix i...</td>\n",
       "      <td>248</td>\n",
       "      <td>55</td>\n",
       "      <td>0</td>\n",
       "    </tr>\n",
       "    <tr>\n",
       "      <th>4</th>\n",
       "      <td>stonetime10</td>\n",
       "      <td>OTR microwave with stud In the way</td>\n",
       "      <td>Hello everyone,\\nI am almost finished my basem...</td>\n",
       "      <td>1645985457</td>\n",
       "      <td>otr microwave with stud in the wayhello everyo...</td>\n",
       "      <td>709</td>\n",
       "      <td>139</td>\n",
       "      <td>0</td>\n",
       "    </tr>\n",
       "  </tbody>\n",
       "</table>\n",
       "</div>"
      ],
      "text/plain": [
       "           author                                              title  \\\n",
       "0   RealDaveCorey  Trying to straighten my leaning garage, was th...   \n",
       "1       ZeroCool1  Thoughts from two years into purchasing a fixe...   \n",
       "2  gwenstellamade     HELP! Fireplace contractors screwed up the job   \n",
       "3   happybaconbit  Kitchen cabinet track is broken. How do I fix it?   \n",
       "4     stonetime10                 OTR microwave with stud In the way   \n",
       "\n",
       "                                            selftext  created_utc  \\\n",
       "0  Hi, I'm looking at torturing my leaning garage...   1645985955   \n",
       "1  A few random thoughts after I've wrestled with...   1645985873   \n",
       "2  So, I’m in a bit of a pickle with my current f...   1645985865   \n",
       "3  Photo: https://imgur.com/a/XgNq0iG \\n\\nIt’s be...   1645985826   \n",
       "4  Hello everyone,\\nI am almost finished my basem...   1645985457   \n",
       "\n",
       "                                      title_selftext  title_text_length  \\\n",
       "0  trying to straighten my leaning garage wa the ...               1136   \n",
       "1  thought from two year into purchasing a fixer ...               4077   \n",
       "2  help fireplace contractor screwed up the jobso...               1795   \n",
       "3  kitchen cabinet track is broken how do i fix i...                248   \n",
       "4  otr microwave with stud in the wayhello everyo...                709   \n",
       "\n",
       "   title_text_word_count  subreddit_target  \n",
       "0                    219                 0  \n",
       "1                    816                 0  \n",
       "2                    351                 0  \n",
       "3                     55                 0  \n",
       "4                    139                 0  "
      ]
     },
     "execution_count": 2,
     "metadata": {},
     "output_type": "execute_result"
    }
   ],
   "source": [
    "df = pd.read_csv('../../data/data_clean_combo_20220302-111425.csv')\n",
    "df.drop(columns = 'Unnamed: 0', inplace=True)\n",
    "df.head()"
   ]
  },
  {
   "cell_type": "markdown",
   "id": "29175f74-9def-4a67-b6e4-9b64cc9040b7",
   "metadata": {},
   "source": [
    "## Create X and y\n",
    "---"
   ]
  },
  {
   "cell_type": "code",
   "execution_count": 3,
   "id": "56c7dd93-4657-4b73-acc2-5537e6750c45",
   "metadata": {},
   "outputs": [
    {
     "data": {
      "text/plain": [
       "0    trying to straighten my leaning garage wa the ...\n",
       "1    thought from two year into purchasing a fixer ...\n",
       "2    help fireplace contractor screwed up the jobso...\n",
       "3    kitchen cabinet track is broken how do i fix i...\n",
       "4    otr microwave with stud in the wayhello everyo...\n",
       "Name: title_selftext, dtype: object"
      ]
     },
     "execution_count": 3,
     "metadata": {},
     "output_type": "execute_result"
    }
   ],
   "source": [
    "X = df['title_selftext']\n",
    "X.head()"
   ]
  },
  {
   "cell_type": "code",
   "execution_count": 4,
   "id": "24c30602-6fff-4a25-8bd1-397d555fc3a3",
   "metadata": {},
   "outputs": [],
   "source": [
    "y = df['subreddit_target']"
   ]
  },
  {
   "cell_type": "markdown",
   "id": "fe67d246-c5b3-4c61-9e03-f04f265a0c1a",
   "metadata": {},
   "source": [
    "## Baseline Accuracy\n",
    "---"
   ]
  },
  {
   "cell_type": "code",
   "execution_count": 5,
   "id": "1fa44bfb-5fa6-42ba-a458-943701293a94",
   "metadata": {},
   "outputs": [
    {
     "data": {
      "text/plain": [
       "0    0.502137\n",
       "1    0.497863\n",
       "Name: subreddit_target, dtype: float64"
      ]
     },
     "execution_count": 5,
     "metadata": {},
     "output_type": "execute_result"
    }
   ],
   "source": [
    "y.value_counts(normalize = True)"
   ]
  },
  {
   "cell_type": "markdown",
   "id": "271343eb-22ed-4c1d-bf42-de2759c03b31",
   "metadata": {},
   "source": [
    "It is essentially a 50/50 split. There is a slight preference towards HomeImprovement. So the baseline/null model will predict HomeImprovement and be accurate about 50% of the time. "
   ]
  },
  {
   "cell_type": "markdown",
   "id": "b3e91272-ab44-4010-a795-ba0868d95b41",
   "metadata": {},
   "source": [
    "## Train - Test Split\n",
    "---"
   ]
  },
  {
   "cell_type": "code",
   "execution_count": 6,
   "id": "a489281a-a065-4bbf-b7b5-1cca9a12823b",
   "metadata": {},
   "outputs": [],
   "source": [
    "X_train, X_test, y_train, y_test = train_test_split(X, y, random_state = 33, stratify = y)"
   ]
  },
  {
   "cell_type": "markdown",
   "id": "d023475d-2385-4e2b-a09c-079872c7a31c",
   "metadata": {},
   "source": [
    "Want to keep the split to about 50/50 for the model, hence why this is being stratified."
   ]
  },
  {
   "cell_type": "markdown",
   "id": "6d924906-cdd5-40fa-a6f7-4cbd29412ec9",
   "metadata": {},
   "source": [
    "## Pipeline\n",
    "---\n",
    "Will start with a pipeline including Count Vectorization and a logistic regression model."
   ]
  },
  {
   "cell_type": "code",
   "execution_count": 7,
   "id": "aad7a3e2-58bb-4604-bace-f28579e69e0f",
   "metadata": {},
   "outputs": [],
   "source": [
    "pipe = Pipeline([\n",
    "    ('vect', CountVectorizer()),\n",
    "    ('logreg', LogisticRegression(solver = 'liblinear'))\n",
    "])"
   ]
  },
  {
   "cell_type": "markdown",
   "id": "c1be6b22-8baf-4660-a727-8b00a989f6e7",
   "metadata": {},
   "source": [
    "## GridSearchCV\n",
    "___"
   ]
  },
  {
   "cell_type": "code",
   "execution_count": 8,
   "id": "c913407d-33b1-4a7d-9a74-e68b49e2df5e",
   "metadata": {},
   "outputs": [
    {
     "name": "stdout",
     "output_type": "stream",
     "text": [
      "0.9510421233685203\n"
     ]
    },
    {
     "data": {
      "text/plain": [
       "{'logreg__penalty': 'l2',\n",
       " 'vect__binary': True,\n",
       " 'vect__max_df': 0.25,\n",
       " 'vect__max_features': 4000,\n",
       " 'vect__min_df': 3,\n",
       " 'vect__ngram_range': (1, 3),\n",
       " 'vect__stop_words': 'english'}"
      ]
     },
     "execution_count": 8,
     "metadata": {},
     "output_type": "execute_result"
    }
   ],
   "source": [
    "params ={\n",
    "    'vect__stop_words': ['english'], #removed none\n",
    "    'vect__min_df': range(1, 10, 2), \n",
    "    'vect__max_df': [1.0, 0.75, 0.5, 0.25], \n",
    "    'vect__binary': [True], #removed False\n",
    "    'vect__ngram_range':[(1,3)], #removed (1,1) and (1,2)\n",
    "    'vect__max_features': [4000], #took out 1000, 1500, 2000, 30000\n",
    "    'logreg__penalty': ['l2'] #took out l1.\n",
    "}\n",
    "\n",
    "gs = GridSearchCV(pipe,\n",
    "                 param_grid=params)\n",
    "\n",
    "gs.fit(X_train, y_train)\n",
    "print(gs.best_score_) \n",
    "gs.best_params_"
   ]
  },
  {
   "cell_type": "markdown",
   "id": "63a9e38a-8bfd-4cbb-aa09-2b318f67d510",
   "metadata": {},
   "source": [
    "## Model Evaluation\n",
    "---\n",
    "\n",
    "Using the GridSearch model above. "
   ]
  },
  {
   "cell_type": "code",
   "execution_count": 9,
   "id": "f4ce6ecc-d341-4997-89a8-16c8f520f575",
   "metadata": {},
   "outputs": [],
   "source": [
    "y_pred = gs.predict(X_test)\n",
    "\n",
    "cf_matrix = confusion_matrix(y_test, y_pred)"
   ]
  },
  {
   "cell_type": "code",
   "execution_count": 10,
   "id": "6ddf1c7b-c83b-4e07-8fbb-a45554ac416d",
   "metadata": {},
   "outputs": [
    {
     "data": {
      "image/png": "[encoded data removed]",
      "text/plain": [
       "<Figure size 432x288 with 2 Axes>"
      ]
     },
     "metadata": {
      "needs_background": "light"
     },
     "output_type": "display_data"
    }
   ],
   "source": [
    "group_names = ['True Neg','False Pos','False Neg','True Pos']\n",
    "group_counts = ['{0:0.0f}'.format(value) for value in\n",
    "                cf_matrix.flatten()]\n",
    "group_percentages = ['{0:.2%}'.format(value) for value in cf_matrix.flatten()/np.sum(cf_matrix)]\n",
    "labels = [f'{v1}\\n{v2}\\n{v3}' for v1, v2, v3 in zip(group_names,group_counts,group_percentages)]\n",
    "labels = np.asarray(labels).reshape(2,2)\n",
    "sns.heatmap(cf_matrix, annot=labels, fmt='', cmap='Blues');"
   ]
  },
  {
   "cell_type": "markdown",
   "id": "2d9218b3-e95d-4903-8eb4-7b49c578f4c3",
   "metadata": {},
   "source": [
    "The below function was created by Dennis T, a contributor on the Medium blog Towards Data Science. He explained in this [blog post](https://medium.com/@dtuk81/confusion-matrix-visualization-fc31e3f30fea) how to use the code and supplied it [here](https://github.com/DTrimarchi10/confusion_matrix/blob/master/cf_matrix.py)."
   ]
  },
  {
   "cell_type": "code",
   "execution_count": 11,
   "id": "2a697bc5-6e1e-4ba2-82d2-832838aa913c",
   "metadata": {},
   "outputs": [],
   "source": [
    "def make_confusion_matrix(cf,\n",
    "                          group_names=None,\n",
    "                          categories='auto',\n",
    "                          count=True,\n",
    "                          percent=True,\n",
    "                          cbar=True,\n",
    "                          xyticks=True,\n",
    "                          xyplotlabels=True,\n",
    "                          sum_stats=True,\n",
    "                          figsize=None,\n",
    "                          cmap='Blues',\n",
    "                          title=None):\n",
    "    '''\n",
    "    This function will make a pretty plot of an sklearn Confusion Matrix cm using a Seaborn heatmap visualization.\n",
    "    Arguments\n",
    "    ---------\n",
    "    cf:            confusion matrix to be passed in\n",
    "    group_names:   List of strings that represent the labels row by row to be shown in each square.\n",
    "    categories:    List of strings containing the categories to be displayed on the x,y axis. Default is 'auto'\n",
    "    count:         If True, show the raw number in the confusion matrix. Default is True.\n",
    "    normalize:     If True, show the proportions for each category. Default is True.\n",
    "    cbar:          If True, show the color bar. The cbar values are based off the values in the confusion matrix.\n",
    "                   Default is True.\n",
    "    xyticks:       If True, show x and y ticks. Default is True.\n",
    "    xyplotlabels:  If True, show 'True Label' and 'Predicted Label' on the figure. Default is True.\n",
    "    sum_stats:     If True, display summary statistics below the figure. Default is True.\n",
    "    figsize:       Tuple representing the figure size. Default will be the matplotlib rcParams value.\n",
    "    cmap:          Colormap of the values displayed from matplotlib.pyplot.cm. Default is 'Blues'\n",
    "                   See http://matplotlib.org/examples/color/colormaps_reference.html\n",
    "                   \n",
    "    title:         Title for the heatmap. Default is None.\n",
    "    '''\n",
    "\n",
    "\n",
    "    # CODE TO GENERATE TEXT INSIDE EACH SQUARE\n",
    "    blanks = ['' for i in range(cf.size)]\n",
    "\n",
    "    if group_names and len(group_names)==cf.size:\n",
    "        group_labels = [\"{}\\n\".format(value) for value in group_names]\n",
    "    else:\n",
    "        group_labels = blanks\n",
    "\n",
    "    if count:\n",
    "        group_counts = [\"{0:0.0f}\\n\".format(value) for value in cf.flatten()]\n",
    "    else:\n",
    "        group_counts = blanks\n",
    "\n",
    "    if percent:\n",
    "        group_percentages = [\"{0:.2%}\".format(value) for value in cf.flatten()/np.sum(cf)]\n",
    "    else:\n",
    "        group_percentages = blanks\n",
    "\n",
    "    box_labels = [f\"{v1}{v2}{v3}\".strip() for v1, v2, v3 in zip(group_labels,group_counts,group_percentages)]\n",
    "    box_labels = np.asarray(box_labels).reshape(cf.shape[0],cf.shape[1])\n",
    "\n",
    "\n",
    "    # CODE TO GENERATE SUMMARY STATISTICS & TEXT FOR SUMMARY STATS\n",
    "    if sum_stats:\n",
    "        #Accuracy is sum of diagonal divided by total observations\n",
    "        accuracy  = np.trace(cf) / float(np.sum(cf))\n",
    "\n",
    "        #if it is a binary confusion matrix, show some more stats\n",
    "        if len(cf)==2:\n",
    "            #Metrics for Binary Confusion Matrices\n",
    "            precision = cf[1,1] / sum(cf[:,1])\n",
    "            recall    = cf[1,1] / sum(cf[1,:])\n",
    "            f1_score  = 2*precision*recall / (precision + recall)\n",
    "            stats_text = \"\\n\\nAccuracy={:0.3f}\\nPrecision={:0.3f}\\nRecall={:0.3f}\\nF1 Score={:0.3f}\".format(\n",
    "                accuracy,precision,recall,f1_score)\n",
    "        else:\n",
    "            stats_text = \"\\n\\nAccuracy={:0.3f}\".format(accuracy)\n",
    "    else:\n",
    "        stats_text = \"\"\n",
    "\n",
    "\n",
    "    # SET FIGURE PARAMETERS ACCORDING TO OTHER ARGUMENTS\n",
    "    if figsize==None:\n",
    "        #Get default figure size if not set\n",
    "        figsize = plt.rcParams.get('figure.figsize')\n",
    "\n",
    "    if xyticks==False:\n",
    "        #Do not show categories if xyticks is False\n",
    "        categories=False\n",
    "\n",
    "\n",
    "    # MAKE THE HEATMAP VISUALIZATION\n",
    "    plt.figure(figsize=figsize)\n",
    "    sns.heatmap(cf,annot=box_labels,fmt=\"\",cmap=cmap,cbar=cbar,xticklabels=categories,yticklabels=categories)\n",
    "\n",
    "    if xyplotlabels:\n",
    "        plt.ylabel('True label')\n",
    "        plt.xlabel('Predicted label' + stats_text)\n",
    "    else:\n",
    "        plt.xlabel(stats_text)\n",
    "    \n",
    "    if title:\n",
    "        plt.title(title)"
   ]
  },
  {
   "cell_type": "code",
   "execution_count": 19,
   "id": "2c96edba-9e92-454e-9414-de661a17f0c4",
   "metadata": {},
   "outputs": [
    {
     "data": {
      "image/png": "[encoded data removed]",
      "text/plain": [
       "<Figure size 432x288 with 1 Axes>"
      ]
     },
     "metadata": {
      "needs_background": "light"
     },
     "output_type": "display_data"
    }
   ],
   "source": [
    "labels = ['True Neg','False Pos','False Neg','True Pos']\n",
    "categories = ['Home Improvement', 'Real Estate Investing']\n",
    "\n",
    "make_confusion_matrix(cf_matrix, \n",
    "                      group_names=labels,\n",
    "                      categories=categories, \n",
    "                      cmap='RdGy',\n",
    "                      cbar=False,\n",
    "                     title = 'Logistic Regression Model')\n",
    "\n",
    "plt.savefig(\"../../images/logreg_matrix.jpg\", bbox_inches=\"tight\", dpi=100);"
   ]
  },
  {
   "cell_type": "code",
   "execution_count": 20,
   "id": "9bf6b0c2-29e2-446b-844b-d1bc2b689e0b",
   "metadata": {},
   "outputs": [
    {
     "data": {
      "text/plain": [
       "<sklearn.metrics._plot.confusion_matrix.ConfusionMatrixDisplay at 0x7fd6eef420d0>"
      ]
     },
     "execution_count": 20,
     "metadata": {},
     "output_type": "execute_result"
    },
    {
     "data": {
      "image/png": "[encoded data removed]",
      "text/plain": [
       "<Figure size 432x288 with 1 Axes>"
      ]
     },
     "metadata": {
      "needs_background": "light"
     },
     "output_type": "display_data"
    }
   ],
   "source": [
    "plot_confusion_matrix(gs, X_test, y_test, display_labels= ['Home Improvement', 'Real Estate Investing'], colorbar=False, cmap='rocket')"
   ]
  },
  {
   "cell_type": "code",
   "execution_count": 21,
   "id": "ea1fc149-0a31-4c44-bd1d-2afb42fbaaa5",
   "metadata": {},
   "outputs": [
    {
     "name": "stdout",
     "output_type": "stream",
     "text": [
      "Train Score = 0.9916163648558015\n",
      "Test Score = 0.9437185929648241\n",
      "Cross Val Score = 0.9503704203343337\n",
      "Accuracy Score = 0.9437185929648241\n",
      "Recall Score = 0.9656565656565657\n",
      "Precision Score = 0.9245647969052224\n",
      "Specificity Score = 0.922\n"
     ]
    }
   ],
   "source": [
    "trainscore = gs.score(X_train, y_train)\n",
    "testscore = gs.score(X_test, y_test)\n",
    "crossval = cross_val_score(gs, X_train, y_train).mean()\n",
    "preds = gs.predict(X_test)\n",
    "tn, fp, fn, tp = metrics.confusion_matrix(y_test, preds).ravel()\n",
    "recall = metrics.recall_score(y_test, preds)\n",
    "precision = metrics.precision_score(y_test, preds)\n",
    "accuracy = testscore\n",
    "specificity = tn / (tn + fp)\n",
    "\n",
    "print (f'Train Score = {trainscore}')\n",
    "print (f'Test Score = {testscore}')\n",
    "print (f'Cross Val Score = {crossval}')\n",
    "print (f'Accuracy Score = {testscore}')\n",
    "print (f'Recall Score = {recall}')\n",
    "print (f'Precision Score = {precision}')\n",
    "print (f'Specificity Score = {specificity}')"
   ]
  },
  {
   "cell_type": "markdown",
   "id": "a7ad24a1-09d6-4b5d-be20-a35215a2039a",
   "metadata": {},
   "source": [
    "The Logistic Regression model using title/self-text performs much better than the Logitistic Regression model using the title only. It has an accuracy score of 94.4% versus 91.4%. This means that the model is 94.4% accurate at predicting which subreddit the text comes from, either Real Estate Investing or Home Improvement.\n",
    "\n",
    "The recall score is very strong. This means that out of all of the actual Real Estate Investing posts, the model accuractely predicted 96.6% of them correctly. \n",
    "\n",
    "The precision score is strong, but not as strong as the recall score. The means that out of all of the predicions for Real Estate Investing, 92.5% of them were accurate predictions. \n",
    "\n",
    "The specificity score is the lowest of all of the scores. This means that out of all of the actual Home Improvement posts, the model accurately predicted 92.2% of them correctly.\n",
    "\n",
    "There are more False Positives, meaning that more posts were predicted to be in Real Estate Investing when they were actually in Home Improvement. "
   ]
  },
  {
   "cell_type": "code",
   "execution_count": 22,
   "id": "e806701d-399c-48ea-a397-59a4b83887bc",
   "metadata": {},
   "outputs": [
    {
     "data": {
      "text/plain": [
       "array([0.23649854, 0.01007716, 0.36206634, ..., 0.53955348, 0.09674031,\n",
       "       0.2121139 ])"
      ]
     },
     "execution_count": 22,
     "metadata": {},
     "output_type": "execute_result"
    }
   ],
   "source": [
    "#Gives coefficients for the model. Remember that these are logs and difficult to interpret. Will only focus on the larger the value, the more important.\n",
    "gs.best_estimator_.named_steps['logreg'].coef_[0]"
   ]
  },
  {
   "cell_type": "code",
   "execution_count": 24,
   "id": "820ec839-3e6e-449a-bdb5-49a829e79474",
   "metadata": {},
   "outputs": [],
   "source": [
    "logreg_coef = pd.Series(gs.best_estimator_.named_steps['logreg'].coef_[0], index = gs.best_estimator_.named_steps['vect'].get_feature_names()).sort_values(ascending = False)[:25]"
   ]
  },
  {
   "cell_type": "code",
   "execution_count": 46,
   "id": "3676778b-01f3-457b-b679-3cd514991e9e",
   "metadata": {},
   "outputs": [
    {
     "data": {
      "image/png": "[encoded data removed]",
      "text/plain": [
       "<Figure size 720x720 with 1 Axes>"
      ]
     },
     "metadata": {
      "needs_background": "light"
     },
     "output_type": "display_data"
    }
   ],
   "source": [
    "plt.figure(figsize = (10, 10))\n",
    "sns.barplot(x = logreg_coef, y = logreg_coef.index)\n",
    "plt.title('Coefficient Magnitude on Logistic Regression Model', fontdict = {'fontsize': 16})\n",
    "plt.xlabel('Coefficient Magnitude', fontdict = {'fontsize': 12})\n",
    "plt.ylabel('Word', fontdict = {'fontsize': 12});\n",
    "plt.savefig(\"../../images/logreg_coef.jpg\", bbox_inches=\"tight\", dpi=100);"
   ]
  },
  {
   "cell_type": "markdown",
   "id": "166f4827-36ed-4a6a-8d47-24b3c14918b3",
   "metadata": {},
   "source": [
    "These are the coefficients for the Logistic Regression model. Larger coefficients mean that the feature was more important to the model and carried a larger impact. "
   ]
  },
  {
   "cell_type": "markdown",
   "id": "6038a7ed-9d45-4f6e-a0cd-3bf0e659b41c",
   "metadata": {},
   "source": [
    "## Probability DataFrame - Predictions vs Actual\n",
    "---\n",
    "The below is credited to Shania Thomas. The dataframe below show the probability for each subreddit on each document. The last dataframe shows the documents that received the *most* wrong probabilities. If time allows, I will dig into why these documents were possibly misclassified."
   ]
  },
  {
   "cell_type": "code",
   "execution_count": null,
   "id": "8dd26850-270d-43e7-b8b5-f91feaecd794",
   "metadata": {},
   "outputs": [],
   "source": [
    "preds_df = pd.DataFrame({\n",
    "    'title_selftext' : X_test, \n",
    "    'actual' : y_test, \n",
    "    'predicted' : gs.predict(X_test),\n",
    "    'P(r/HomeImprovement)' : [i[0] for i in gs.predict_proba(X_test)],\n",
    "    'P(r/RealEstateInvesting)' : [i[1] for i in gs.predict_proba(X_test)]})\n",
    "preds_df['Prob Diff'] = np.abs(preds_df['P(r/RealEstateInvesting)'] - preds_df['P(r/HomeImprovement)'])\n",
    "preds_df"
   ]
  },
  {
   "cell_type": "code",
   "execution_count": 34,
   "id": "134e923c-d702-41a5-8d56-ee49c42af193",
   "metadata": {},
   "outputs": [
    {
     "data": {
      "text/html": [
       "<div>\n",
       "<style scoped>\n",
       "    .dataframe tbody tr th:only-of-type {\n",
       "        vertical-align: middle;\n",
       "    }\n",
       "\n",
       "    .dataframe tbody tr th {\n",
       "        vertical-align: top;\n",
       "    }\n",
       "\n",
       "    .dataframe thead th {\n",
       "        text-align: right;\n",
       "    }\n",
       "</style>\n",
       "<table border=\"1\" class=\"dataframe\">\n",
       "  <thead>\n",
       "    <tr style=\"text-align: right;\">\n",
       "      <th></th>\n",
       "      <th>title_selftext</th>\n",
       "      <th>actual</th>\n",
       "      <th>predicted</th>\n",
       "      <th>P(r/HomeImprovement)</th>\n",
       "      <th>P(r/RealEstateInvesting)</th>\n",
       "      <th>Prob Diff</th>\n",
       "    </tr>\n",
       "  </thead>\n",
       "  <tbody>\n",
       "    <tr>\n",
       "      <th>457</th>\n",
       "      <td>code enforcement invading the neighborhood now what i live next to a motorcycle club they re great people and a welcome presence in the neighborhood not a single conflict in the 3 year i ve lived here or in the past decade according to other neighbor however they have quite a few structure on their property that are not permitted most of which have been there 20 year or longer a few trailer rv porch awning etc someone bought up a number of vacant lot in the neighborhood we suspect to build rental property and decided that their first step wa to call code enforcement on the club code enforcement gave them a dozen citation and 6 week to get compliant or 1000 daily fine will begin the club is complying and removing all of their structure however the code enforcement officer decided to a clean sweep of the entire neighborhood while they were here they knocked on several door citing people for improperly placed trash can un permitted railing on porch canopy tent in people s backyard and a variety of other violation that seem quite ridiculous given the context of the neighborhood code enforcement ha not been in this neighborhood in decade according to neighbor who ve lived here since the 1980s keep in mind no one who life in this neighborhood actually called code enforcement code enforcement explicitly told u that the only complaint they have wa filed against the bike club and it wa not by a resident of the neighborhood this feel a lot like an overreach on their part a the entire community is content with the bike club i ve spoken to every neighbor on my street and none of them are happy that code enforcement is here with that said is there anything can be done about this it feel like a stranger came to our community reported the violation they saw having never actually lived here and now we re dealing with multiple officer nitpicking the entire block over arbitrary violation everyone is frustrated stressed out and simply want to be left alone are we just totally screwed</td>\n",
       "      <td>0</td>\n",
       "      <td>1</td>\n",
       "      <td>0.013883</td>\n",
       "      <td>0.986117</td>\n",
       "      <td>0.972233</td>\n",
       "    </tr>\n",
       "    <tr>\n",
       "      <th>1922</th>\n",
       "      <td>alternate project management contractor love to come in and do large renovation and charge you can have a better and cheaper result by cutting the project into manageable piece if you have time be your own project manager i say better because change can be made on the fly without extra charge when you find surprise you can deal with them in your own time and budget you will find surprise doing work that need a permit usually only a specific part of your project need permitting and inspecting if an inspector come and work ha been done in a large area then they will inspect all the work get the project ready for your tradesman then when the inspection time come they can tell the inspector what work they performed and the rest wa already there do a much of the work yourself a you can demo prep cleanup all that cost money to pay someone else to do talk to lot of people watch video you don t need to know an entire trade to do small thing if you read this i apologize for my poor writing skill hope it help with someone s home improvement good luck</td>\n",
       "      <td>0</td>\n",
       "      <td>1</td>\n",
       "      <td>0.023141</td>\n",
       "      <td>0.976859</td>\n",
       "      <td>0.953718</td>\n",
       "    </tr>\n",
       "    <tr>\n",
       "      <th>966</th>\n",
       "      <td>should i get expensive window for a rental unit are expensive window worth putting in a rental unit from what i ve read it would take about 10 year to make back the money on energy saved but i m not paying utility anyway</td>\n",
       "      <td>0</td>\n",
       "      <td>1</td>\n",
       "      <td>0.028582</td>\n",
       "      <td>0.971418</td>\n",
       "      <td>0.942837</td>\n",
       "    </tr>\n",
       "    <tr>\n",
       "      <th>581</th>\n",
       "      <td>finding out about fire damage to a house canada i m based in canada and looking to buy my first house is there a way to proactively find out about any fire that could have occurred in the past besides relying on the house inspection can you find out this information from the city or fire department an acquaintance of mine bought a house that had fire damage some time ago this wa not disclosed to her and the inspector did not pick up on it so i m a little wary</td>\n",
       "      <td>0</td>\n",
       "      <td>1</td>\n",
       "      <td>0.068711</td>\n",
       "      <td>0.931289</td>\n",
       "      <td>0.862577</td>\n",
       "    </tr>\n",
       "    <tr>\n",
       "      <th>124</th>\n",
       "      <td>real estate developerthinking about going into real estate development but have no clue where to start anyone able to give some suggestion on where to start</td>\n",
       "      <td>0</td>\n",
       "      <td>1</td>\n",
       "      <td>0.077228</td>\n",
       "      <td>0.922772</td>\n",
       "      <td>0.845544</td>\n",
       "    </tr>\n",
       "    <tr>\n",
       "      <th>491</th>\n",
       "      <td>best reward credit card plan for new home renovation hi everyone new to the home improvement community first time home buyer and we will be doing some painting but also buying maintenance item that we ll need snowblower power washer etc we have a low home depot and menards near by i wa wondering if it s best to do all our shopping at one should we open a credit card with one thanks</td>\n",
       "      <td>0</td>\n",
       "      <td>1</td>\n",
       "      <td>0.093764</td>\n",
       "      <td>0.906236</td>\n",
       "      <td>0.812473</td>\n",
       "    </tr>\n",
       "    <tr>\n",
       "      <th>1195</th>\n",
       "      <td>full size 2x3 rough lumber for framingjust wanted to get some experienced advice or opinion on whether or not full dimension 2x3 lumber could be strong enough to frame a 16x20 shed im only asking since a mill close to me ha an abundance of it and can get a good deal compared to 2x4 or actual dimensional</td>\n",
       "      <td>0</td>\n",
       "      <td>1</td>\n",
       "      <td>0.135054</td>\n",
       "      <td>0.864946</td>\n",
       "      <td>0.729892</td>\n",
       "    </tr>\n",
       "    <tr>\n",
       "      <th>527</th>\n",
       "      <td>major painting mistake that s not even my fault roll with it or start over removed</td>\n",
       "      <td>0</td>\n",
       "      <td>1</td>\n",
       "      <td>0.141271</td>\n",
       "      <td>0.858729</td>\n",
       "      <td>0.717459</td>\n",
       "    </tr>\n",
       "    <tr>\n",
       "      <th>474</th>\n",
       "      <td>gatgets you must have removed</td>\n",
       "      <td>0</td>\n",
       "      <td>1</td>\n",
       "      <td>0.145062</td>\n",
       "      <td>0.854938</td>\n",
       "      <td>0.709875</td>\n",
       "    </tr>\n",
       "    <tr>\n",
       "      <th>143</th>\n",
       "      <td>den v half bathwe live in a 2 bedroom 2 5 bath duplex condo in a metropolitan area one full bath is downstairs one is the master suite and then there is a half bath upstairs the half bath take up quite a bit of space upstairs and we never use it except when we have rare guest it feel like there is enough space between the fairy big half bath and the hallway space to create a den wanted to get your opinion on the value of an additional half bath v a small den which could potentially be a small office or nursery</td>\n",
       "      <td>0</td>\n",
       "      <td>1</td>\n",
       "      <td>0.157061</td>\n",
       "      <td>0.842939</td>\n",
       "      <td>0.685878</td>\n",
       "    </tr>\n",
       "  </tbody>\n",
       "</table>\n",
       "</div>"
      ],
      "text/plain": [
       "                                                                                                                                                                                                                                                                                                                                                                                                                                                                                                                                                                                                                                                                                                                                                                                                                                                                                                                                                                                                                                                                                                                                                                                                                                                                                                                                                                                                                                                                                                                                                                                                                                                                                                                                                                                                                                                                                                                                                                                                                                                                       title_selftext  \\\n",
       "457   code enforcement invading the neighborhood now what i live next to a motorcycle club they re great people and a welcome presence in the neighborhood not a single conflict in the 3 year i ve lived here or in the past decade according to other neighbor however they have quite a few structure on their property that are not permitted most of which have been there 20 year or longer a few trailer rv porch awning etc someone bought up a number of vacant lot in the neighborhood we suspect to build rental property and decided that their first step wa to call code enforcement on the club code enforcement gave them a dozen citation and 6 week to get compliant or 1000 daily fine will begin the club is complying and removing all of their structure however the code enforcement officer decided to a clean sweep of the entire neighborhood while they were here they knocked on several door citing people for improperly placed trash can un permitted railing on porch canopy tent in people s backyard and a variety of other violation that seem quite ridiculous given the context of the neighborhood code enforcement ha not been in this neighborhood in decade according to neighbor who ve lived here since the 1980s keep in mind no one who life in this neighborhood actually called code enforcement code enforcement explicitly told u that the only complaint they have wa filed against the bike club and it wa not by a resident of the neighborhood this feel a lot like an overreach on their part a the entire community is content with the bike club i ve spoken to every neighbor on my street and none of them are happy that code enforcement is here with that said is there anything can be done about this it feel like a stranger came to our community reported the violation they saw having never actually lived here and now we re dealing with multiple officer nitpicking the entire block over arbitrary violation everyone is frustrated stressed out and simply want to be left alone are we just totally screwed   \n",
       "1922                                                                                                                                                                                                                                                                                                                                                                                                                                                                                                                                                                                                                                                                                                                                                                                                                                                                                                                                                                                 alternate project management contractor love to come in and do large renovation and charge you can have a better and cheaper result by cutting the project into manageable piece if you have time be your own project manager i say better because change can be made on the fly without extra charge when you find surprise you can deal with them in your own time and budget you will find surprise doing work that need a permit usually only a specific part of your project need permitting and inspecting if an inspector come and work ha been done in a large area then they will inspect all the work get the project ready for your tradesman then when the inspection time come they can tell the inspector what work they performed and the rest wa already there do a much of the work yourself a you can demo prep cleanup all that cost money to pay someone else to do talk to lot of people watch video you don t need to know an entire trade to do small thing if you read this i apologize for my poor writing skill hope it help with someone s home improvement good luck   \n",
       "966                                                                                                                                                                                                                                                                                                                                                                                                                                                                                                                                                                                                                                                                                                                                                                                                                                                                                                                                                                                                                                                                                                                                                                                                                                                                                                                                                                                                                                                                                                                                                                                                                                                                                                                                                                                                                                                      should i get expensive window for a rental unit are expensive window worth putting in a rental unit from what i ve read it would take about 10 year to make back the money on energy saved but i m not paying utility anyway   \n",
       "581                                                                                                                                                                                                                                                                                                                                                                                                                                                                                                                                                                                                                                                                                                                                                                                                                                                                                                                                                                                                                                                                                                                                                                                                                                                                                                                                                                                                                                                                                                                                                                                                   finding out about fire damage to a house canada i m based in canada and looking to buy my first house is there a way to proactively find out about any fire that could have occurred in the past besides relying on the house inspection can you find out this information from the city or fire department an acquaintance of mine bought a house that had fire damage some time ago this wa not disclosed to her and the inspector did not pick up on it so i m a little wary   \n",
       "124                                                                                                                                                                                                                                                                                                                                                                                                                                                                                                                                                                                                                                                                                                                                                                                                                                                                                                                                                                                                                                                                                                                                                                                                                                                                                                                                                                                                                                                                                                                                                                                                                                                                                                                                                                                                                                                                                                                      real estate developerthinking about going into real estate development but have no clue where to start anyone able to give some suggestion on where to start   \n",
       "491                                                                                                                                                                                                                                                                                                                                                                                                                                                                                                                                                                                                                                                                                                                                                                                                                                                                                                                                                                                                                                                                                                                                                                                                                                                                                                                                                                                                                                                                                                                                                                                                                                                                                  best reward credit card plan for new home renovation hi everyone new to the home improvement community first time home buyer and we will be doing some painting but also buying maintenance item that we ll need snowblower power washer etc we have a low home depot and menards near by i wa wondering if it s best to do all our shopping at one should we open a credit card with one thanks   \n",
       "1195                                                                                                                                                                                                                                                                                                                                                                                                                                                                                                                                                                                                                                                                                                                                                                                                                                                                                                                                                                                                                                                                                                                                                                                                                                                                                                                                                                                                                                                                                                                                                                                                                                                                                                                                                                 full size 2x3 rough lumber for framingjust wanted to get some experienced advice or opinion on whether or not full dimension 2x3 lumber could be strong enough to frame a 16x20 shed im only asking since a mill close to me ha an abundance of it and can get a good deal compared to 2x4 or actual dimensional   \n",
       "527                                                                                                                                                                                                                                                                                                                                                                                                                                                                                                                                                                                                                                                                                                                                                                                                                                                                                                                                                                                                                                                                                                                                                                                                                                                                                                                                                                                                                                                                                                                                                                                                                                                                                                                                                                                                                                                                                                                                                                                                major painting mistake that s not even my fault roll with it or start over removed   \n",
       "474                                                                                                                                                                                                                                                                                                                                                                                                                                                                                                                                                                                                                                                                                                                                                                                                                                                                                                                                                                                                                                                                                                                                                                                                                                                                                                                                                                                                                                                                                                                                                                                                                                                                                                                                                                                                                                                                                                                                                                                                                                                     gatgets you must have removed   \n",
       "143                                                                                                                                                                                                                                                                                                                                                                                                                                                                                                                                                                                                                                                                                                                                                                                                                                                                                                                                                                                                                                                                                                                                                                                                                                                                                                                                                                                                                                                                                                                                               den v half bathwe live in a 2 bedroom 2 5 bath duplex condo in a metropolitan area one full bath is downstairs one is the master suite and then there is a half bath upstairs the half bath take up quite a bit of space upstairs and we never use it except when we have rare guest it feel like there is enough space between the fairy big half bath and the hallway space to create a den wanted to get your opinion on the value of an additional half bath v a small den which could potentially be a small office or nursery   \n",
       "\n",
       "      actual  predicted  P(r/HomeImprovement)  P(r/RealEstateInvesting)  \\\n",
       "457        0          1              0.013883                  0.986117   \n",
       "1922       0          1              0.023141                  0.976859   \n",
       "966        0          1              0.028582                  0.971418   \n",
       "581        0          1              0.068711                  0.931289   \n",
       "124        0          1              0.077228                  0.922772   \n",
       "491        0          1              0.093764                  0.906236   \n",
       "1195       0          1              0.135054                  0.864946   \n",
       "527        0          1              0.141271                  0.858729   \n",
       "474        0          1              0.145062                  0.854938   \n",
       "143        0          1              0.157061                  0.842939   \n",
       "\n",
       "      Prob Diff  \n",
       "457    0.972233  \n",
       "1922   0.953718  \n",
       "966    0.942837  \n",
       "581    0.862577  \n",
       "124    0.845544  \n",
       "491    0.812473  \n",
       "1195   0.729892  \n",
       "527    0.717459  \n",
       "474    0.709875  \n",
       "143    0.685878  "
      ]
     },
     "execution_count": 34,
     "metadata": {},
     "output_type": "execute_result"
    }
   ],
   "source": [
    "pd.set_option('display.max_colwidth', None)\n",
    "wrong_preds_df = preds_df[preds_df['actual']!=preds_df['predicted']]\n",
    "very_wrong_preds_df = wrong_preds_df[wrong_preds_df['Prob Diff']>0.5]\n",
    "very_wrong_preds_df.sort_values(by='P(r/RealEstateInvesting)', ascending=False).head(10)"
   ]
  }
 ],
 "metadata": {
  "kernelspec": {
   "display_name": "Python 3 (ipykernel)",
   "language": "python",
   "name": "python3"
  },
  "language_info": {
   "codemirror_mode": {
    "name": "ipython",
    "version": 3
   },
   "file_extension": ".py",
   "mimetype": "text/x-python",
   "name": "python",
   "nbconvert_exporter": "python",
   "pygments_lexer": "ipython3",
   "version": "3.9.7"
  }
 },
 "nbformat": 4,
 "nbformat_minor": 5
}
