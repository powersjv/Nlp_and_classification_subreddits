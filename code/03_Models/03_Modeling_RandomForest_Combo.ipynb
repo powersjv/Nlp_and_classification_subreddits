{
 "cells": [
  {
   "cell_type": "markdown",
   "id": "be290856-1857-40c7-89f4-80aa49af8604",
   "metadata": {},
   "source": [
    "# Modeling\n",
    "___\n",
    "\n",
    "Below is a Random Forest Model using a Pipeline and Count Vectorization. Accuracy = 94.7%.\n",
    "\n",
    "---\n",
    "\n",
    "### Import Libraries"
   ]
  },
  {
   "cell_type": "code",
   "execution_count": 1,
   "id": "1b6b72bc-8aad-4721-aaf5-1d34ee22c67d",
   "metadata": {},
   "outputs": [],
   "source": [
    "import pandas as pd\n",
    "import numpy as np\n",
    "import seaborn as sns\n",
    "import matplotlib.pyplot as plt\n",
    "\n",
    "\n",
    "from sklearn.feature_extraction.text import CountVectorizer\n",
    "from sklearn.pipeline import Pipeline\n",
    "from sklearn.model_selection import train_test_split, cross_val_score, RandomizedSearchCV\n",
    "from sklearn.metrics import plot_confusion_matrix, confusion_matrix\n",
    "import sklearn.metrics as metrics\n",
    "from sklearn.ensemble import RandomForestClassifier, ExtraTreesClassifier"
   ]
  },
  {
   "cell_type": "markdown",
   "id": "bb90739e-854f-4ec4-a157-d7b97b086a45",
   "metadata": {},
   "source": [
    "## Load the data\n",
    "---"
   ]
  },
  {
   "cell_type": "code",
   "execution_count": 2,
   "id": "751e0380-cf91-4566-8062-a8b7849af445",
   "metadata": {},
   "outputs": [
    {
     "data": {
      "text/html": [
       "<div>\n",
       "<style scoped>\n",
       "    .dataframe tbody tr th:only-of-type {\n",
       "        vertical-align: middle;\n",
       "    }\n",
       "\n",
       "    .dataframe tbody tr th {\n",
       "        vertical-align: top;\n",
       "    }\n",
       "\n",
       "    .dataframe thead th {\n",
       "        text-align: right;\n",
       "    }\n",
       "</style>\n",
       "<table border=\"1\" class=\"dataframe\">\n",
       "  <thead>\n",
       "    <tr style=\"text-align: right;\">\n",
       "      <th></th>\n",
       "      <th>author</th>\n",
       "      <th>title</th>\n",
       "      <th>selftext</th>\n",
       "      <th>created_utc</th>\n",
       "      <th>title_selftext</th>\n",
       "      <th>title_text_length</th>\n",
       "      <th>title_text_word_count</th>\n",
       "      <th>subreddit_target</th>\n",
       "    </tr>\n",
       "  </thead>\n",
       "  <tbody>\n",
       "    <tr>\n",
       "      <th>0</th>\n",
       "      <td>RealDaveCorey</td>\n",
       "      <td>Trying to straighten my leaning garage, was th...</td>\n",
       "      <td>Hi, I'm looking at torturing my leaning garage...</td>\n",
       "      <td>1645985955</td>\n",
       "      <td>trying to straighten my leaning garage wa the ...</td>\n",
       "      <td>1136</td>\n",
       "      <td>219</td>\n",
       "      <td>0</td>\n",
       "    </tr>\n",
       "    <tr>\n",
       "      <th>1</th>\n",
       "      <td>ZeroCool1</td>\n",
       "      <td>Thoughts from two years into purchasing a fixe...</td>\n",
       "      <td>A few random thoughts after I've wrestled with...</td>\n",
       "      <td>1645985873</td>\n",
       "      <td>thought from two year into purchasing a fixer ...</td>\n",
       "      <td>4077</td>\n",
       "      <td>816</td>\n",
       "      <td>0</td>\n",
       "    </tr>\n",
       "    <tr>\n",
       "      <th>2</th>\n",
       "      <td>gwenstellamade</td>\n",
       "      <td>HELP! Fireplace contractors screwed up the job</td>\n",
       "      <td>So, I’m in a bit of a pickle with my current f...</td>\n",
       "      <td>1645985865</td>\n",
       "      <td>help fireplace contractor screwed up the jobso...</td>\n",
       "      <td>1795</td>\n",
       "      <td>351</td>\n",
       "      <td>0</td>\n",
       "    </tr>\n",
       "    <tr>\n",
       "      <th>3</th>\n",
       "      <td>happybaconbit</td>\n",
       "      <td>Kitchen cabinet track is broken. How do I fix it?</td>\n",
       "      <td>Photo: https://imgur.com/a/XgNq0iG \\n\\nIt’s be...</td>\n",
       "      <td>1645985826</td>\n",
       "      <td>kitchen cabinet track is broken how do i fix i...</td>\n",
       "      <td>248</td>\n",
       "      <td>55</td>\n",
       "      <td>0</td>\n",
       "    </tr>\n",
       "    <tr>\n",
       "      <th>4</th>\n",
       "      <td>stonetime10</td>\n",
       "      <td>OTR microwave with stud In the way</td>\n",
       "      <td>Hello everyone,\\nI am almost finished my basem...</td>\n",
       "      <td>1645985457</td>\n",
       "      <td>otr microwave with stud in the wayhello everyo...</td>\n",
       "      <td>709</td>\n",
       "      <td>139</td>\n",
       "      <td>0</td>\n",
       "    </tr>\n",
       "  </tbody>\n",
       "</table>\n",
       "</div>"
      ],
      "text/plain": [
       "           author                                              title  \\\n",
       "0   RealDaveCorey  Trying to straighten my leaning garage, was th...   \n",
       "1       ZeroCool1  Thoughts from two years into purchasing a fixe...   \n",
       "2  gwenstellamade     HELP! Fireplace contractors screwed up the job   \n",
       "3   happybaconbit  Kitchen cabinet track is broken. How do I fix it?   \n",
       "4     stonetime10                 OTR microwave with stud In the way   \n",
       "\n",
       "                                            selftext  created_utc  \\\n",
       "0  Hi, I'm looking at torturing my leaning garage...   1645985955   \n",
       "1  A few random thoughts after I've wrestled with...   1645985873   \n",
       "2  So, I’m in a bit of a pickle with my current f...   1645985865   \n",
       "3  Photo: https://imgur.com/a/XgNq0iG \\n\\nIt’s be...   1645985826   \n",
       "4  Hello everyone,\\nI am almost finished my basem...   1645985457   \n",
       "\n",
       "                                      title_selftext  title_text_length  \\\n",
       "0  trying to straighten my leaning garage wa the ...               1136   \n",
       "1  thought from two year into purchasing a fixer ...               4077   \n",
       "2  help fireplace contractor screwed up the jobso...               1795   \n",
       "3  kitchen cabinet track is broken how do i fix i...                248   \n",
       "4  otr microwave with stud in the wayhello everyo...                709   \n",
       "\n",
       "   title_text_word_count  subreddit_target  \n",
       "0                    219                 0  \n",
       "1                    816                 0  \n",
       "2                    351                 0  \n",
       "3                     55                 0  \n",
       "4                    139                 0  "
      ]
     },
     "execution_count": 2,
     "metadata": {},
     "output_type": "execute_result"
    }
   ],
   "source": [
    "df = pd.read_csv('../../data/data_clean_combo_20220302-111425.csv')\n",
    "df.drop(columns = 'Unnamed: 0', inplace=True)\n",
    "df.head()"
   ]
  },
  {
   "cell_type": "markdown",
   "id": "29175f74-9def-4a67-b6e4-9b64cc9040b7",
   "metadata": {},
   "source": [
    "## Create X and y\n",
    "---"
   ]
  },
  {
   "cell_type": "code",
   "execution_count": 3,
   "id": "56c7dd93-4657-4b73-acc2-5537e6750c45",
   "metadata": {},
   "outputs": [
    {
     "data": {
      "text/plain": [
       "0    trying to straighten my leaning garage wa the ...\n",
       "1    thought from two year into purchasing a fixer ...\n",
       "2    help fireplace contractor screwed up the jobso...\n",
       "3    kitchen cabinet track is broken how do i fix i...\n",
       "4    otr microwave with stud in the wayhello everyo...\n",
       "Name: title_selftext, dtype: object"
      ]
     },
     "execution_count": 3,
     "metadata": {},
     "output_type": "execute_result"
    }
   ],
   "source": [
    "X = df['title_selftext']\n",
    "X.head()"
   ]
  },
  {
   "cell_type": "code",
   "execution_count": 4,
   "id": "24c30602-6fff-4a25-8bd1-397d555fc3a3",
   "metadata": {},
   "outputs": [],
   "source": [
    "y = df['subreddit_target']"
   ]
  },
  {
   "cell_type": "markdown",
   "id": "fe67d246-c5b3-4c61-9e03-f04f265a0c1a",
   "metadata": {},
   "source": [
    "## Baseline Accuracy\n",
    "---"
   ]
  },
  {
   "cell_type": "code",
   "execution_count": 5,
   "id": "1fa44bfb-5fa6-42ba-a458-943701293a94",
   "metadata": {},
   "outputs": [
    {
     "data": {
      "text/plain": [
       "0    0.502137\n",
       "1    0.497863\n",
       "Name: subreddit_target, dtype: float64"
      ]
     },
     "execution_count": 5,
     "metadata": {},
     "output_type": "execute_result"
    }
   ],
   "source": [
    "y.value_counts(normalize = True)"
   ]
  },
  {
   "cell_type": "markdown",
   "id": "271343eb-22ed-4c1d-bf42-de2759c03b31",
   "metadata": {},
   "source": [
    "It is essentially a 50/50 split. There is a slight preference towards HomeImprovement. So the baseline/null model will predict HomeImprovement and be accurate about 50% of the time. "
   ]
  },
  {
   "cell_type": "markdown",
   "id": "b3e91272-ab44-4010-a795-ba0868d95b41",
   "metadata": {},
   "source": [
    "## Train - Test Split\n",
    "---"
   ]
  },
  {
   "cell_type": "code",
   "execution_count": 6,
   "id": "a489281a-a065-4bbf-b7b5-1cca9a12823b",
   "metadata": {},
   "outputs": [],
   "source": [
    "X_train, X_test, y_train, y_test = train_test_split(X, y, random_state = 33, stratify = y)"
   ]
  },
  {
   "cell_type": "markdown",
   "id": "d023475d-2385-4e2b-a09c-079872c7a31c",
   "metadata": {},
   "source": [
    "Want to keep the split to about 50/50 for the model, hence why this is being stratified."
   ]
  },
  {
   "cell_type": "markdown",
   "id": "6d924906-cdd5-40fa-a6f7-4cbd29412ec9",
   "metadata": {},
   "source": [
    "## Pipeline\n",
    "---\n",
    "Pipeline including Count Vectorization and a Random Forest Classifier model."
   ]
  },
  {
   "cell_type": "code",
   "execution_count": 7,
   "id": "aad7a3e2-58bb-4604-bace-f28579e69e0f",
   "metadata": {},
   "outputs": [],
   "source": [
    "pipe = Pipeline([\n",
    "    ('vect', CountVectorizer()),\n",
    "    ('forest', RandomForestClassifier())\n",
    "])"
   ]
  },
  {
   "cell_type": "markdown",
   "id": "c1be6b22-8baf-4660-a727-8b00a989f6e7",
   "metadata": {},
   "source": [
    "## GridSearchCV\n",
    "___"
   ]
  },
  {
   "cell_type": "code",
   "execution_count": 8,
   "id": "c913407d-33b1-4a7d-9a74-e68b49e2df5e",
   "metadata": {},
   "outputs": [
    {
     "name": "stdout",
     "output_type": "stream",
     "text": [
      "0.9500376603374814\n"
     ]
    },
    {
     "data": {
      "text/plain": [
       "{'vect__stop_words': 'english',\n",
       " 'vect__min_df': 1,\n",
       " 'vect__max_df': 1.0,\n",
       " 'vect__binary': False,\n",
       " 'forest__n_estimators': 100,\n",
       " 'forest__max_features': 'auto',\n",
       " 'forest__max_depth': None}"
      ]
     },
     "execution_count": 8,
     "metadata": {},
     "output_type": "execute_result"
    }
   ],
   "source": [
    "params ={\n",
    "    'vect__stop_words': [None, 'english'], \n",
    "    'vect__min_df': range(1, 10, 2), \n",
    "    'vect__max_df': [1.0, 0.75, 0.5, 0.25], #0.4, 0.3, \n",
    "    'vect__binary': [True, False],\n",
    "    'forest__n_estimators': [50, 75, 100, 125],\n",
    "    'forest__max_depth': [None, 3, 4, 5], \n",
    "    'forest__max_features': ['auto']\n",
    "}\n",
    "\n",
    "rs = RandomizedSearchCV(pipe,\n",
    "                       param_distributions = params)\n",
    "\n",
    "rs.fit(X_train, y_train)\n",
    "print(rs.best_score_) \n",
    "rs.best_params_"
   ]
  },
  {
   "cell_type": "markdown",
   "id": "e351c2ec-ffe6-4671-91d4-778e7abb51cd",
   "metadata": {},
   "source": [
    "Ran this model above with a 0.4 max_df and it had a higher score but the confusion matrix showed higher false positives. I removed that and this confusion matrix has a more even split of false negatives and false positives. "
   ]
  },
  {
   "cell_type": "markdown",
   "id": "63a9e38a-8bfd-4cbb-aa09-2b318f67d510",
   "metadata": {},
   "source": [
    "## Model Evaluation\n",
    "---\n",
    "\n",
    "Using the GridSearch model above. "
   ]
  },
  {
   "cell_type": "code",
   "execution_count": 9,
   "id": "726c9ffb-cd39-4b53-8c14-0cf4773e495c",
   "metadata": {},
   "outputs": [],
   "source": [
    "y_pred = rs.predict(X_test)\n",
    "\n",
    "cf_matrix = confusion_matrix(y_test, y_pred)"
   ]
  },
  {
   "cell_type": "code",
   "execution_count": 10,
   "id": "9bf6b0c2-29e2-446b-844b-d1bc2b689e0b",
   "metadata": {},
   "outputs": [
    {
     "data": {
      "text/plain": [
       "<sklearn.metrics._plot.confusion_matrix.ConfusionMatrixDisplay at 0x7f98498ad670>"
      ]
     },
     "execution_count": 10,
     "metadata": {},
     "output_type": "execute_result"
    },
    {
     "data": {
      "image/png": "[encoded data removed]",
      "text/plain": [
       "<Figure size 432x288 with 2 Axes>"
      ]
     },
     "metadata": {
      "needs_background": "light"
     },
     "output_type": "display_data"
    }
   ],
   "source": [
    "plot_confusion_matrix(rs, X_test, y_test, display_labels= ['Home Improvement', 'Real Estate Investing'])"
   ]
  },
  {
   "cell_type": "markdown",
   "id": "a6fcd8f6-d9e1-4b1b-9fac-765cb5658a38",
   "metadata": {},
   "source": [
    "The below function was created by Dennis T, a contributor on the Medium blog Towards Data Science. He explained in this [blog post](https://medium.com/@dtuk81/confusion-matrix-visualization-fc31e3f30fea) how to use the code and supplied it [here](https://github.com/DTrimarchi10/confusion_matrix/blob/master/cf_matrix.py)."
   ]
  },
  {
   "cell_type": "code",
   "execution_count": 11,
   "id": "c73db23c-fa8e-4e91-8d3e-855fa6dcdc72",
   "metadata": {},
   "outputs": [],
   "source": [
    "def make_confusion_matrix(cf,\n",
    "                          group_names=None,\n",
    "                          categories='auto',\n",
    "                          count=True,\n",
    "                          percent=True,\n",
    "                          cbar=True,\n",
    "                          xyticks=True,\n",
    "                          xyplotlabels=True,\n",
    "                          sum_stats=True,\n",
    "                          figsize=None,\n",
    "                          cmap='Blues',\n",
    "                          title=None):\n",
    "    '''\n",
    "    This function will make a pretty plot of an sklearn Confusion Matrix cm using a Seaborn heatmap visualization.\n",
    "    Arguments\n",
    "    ---------\n",
    "    cf:            confusion matrix to be passed in\n",
    "    group_names:   List of strings that represent the labels row by row to be shown in each square.\n",
    "    categories:    List of strings containing the categories to be displayed on the x,y axis. Default is 'auto'\n",
    "    count:         If True, show the raw number in the confusion matrix. Default is True.\n",
    "    normalize:     If True, show the proportions for each category. Default is True.\n",
    "    cbar:          If True, show the color bar. The cbar values are based off the values in the confusion matrix.\n",
    "                   Default is True.\n",
    "    xyticks:       If True, show x and y ticks. Default is True.\n",
    "    xyplotlabels:  If True, show 'True Label' and 'Predicted Label' on the figure. Default is True.\n",
    "    sum_stats:     If True, display summary statistics below the figure. Default is True.\n",
    "    figsize:       Tuple representing the figure size. Default will be the matplotlib rcParams value.\n",
    "    cmap:          Colormap of the values displayed from matplotlib.pyplot.cm. Default is 'Blues'\n",
    "                   See http://matplotlib.org/examples/color/colormaps_reference.html\n",
    "                   \n",
    "    title:         Title for the heatmap. Default is None.\n",
    "    '''\n",
    "\n",
    "\n",
    "    # CODE TO GENERATE TEXT INSIDE EACH SQUARE\n",
    "    blanks = ['' for i in range(cf.size)]\n",
    "\n",
    "    if group_names and len(group_names)==cf.size:\n",
    "        group_labels = [\"{}\\n\".format(value) for value in group_names]\n",
    "    else:\n",
    "        group_labels = blanks\n",
    "\n",
    "    if count:\n",
    "        group_counts = [\"{0:0.0f}\\n\".format(value) for value in cf.flatten()]\n",
    "    else:\n",
    "        group_counts = blanks\n",
    "\n",
    "    if percent:\n",
    "        group_percentages = [\"{0:.2%}\".format(value) for value in cf.flatten()/np.sum(cf)]\n",
    "    else:\n",
    "        group_percentages = blanks\n",
    "\n",
    "    box_labels = [f\"{v1}{v2}{v3}\".strip() for v1, v2, v3 in zip(group_labels,group_counts,group_percentages)]\n",
    "    box_labels = np.asarray(box_labels).reshape(cf.shape[0],cf.shape[1])\n",
    "\n",
    "\n",
    "    # CODE TO GENERATE SUMMARY STATISTICS & TEXT FOR SUMMARY STATS\n",
    "    if sum_stats:\n",
    "        #Accuracy is sum of diagonal divided by total observations\n",
    "        accuracy  = np.trace(cf) / float(np.sum(cf))\n",
    "\n",
    "        #if it is a binary confusion matrix, show some more stats\n",
    "        if len(cf)==2:\n",
    "            #Metrics for Binary Confusion Matrices\n",
    "            precision = cf[1,1] / sum(cf[:,1])\n",
    "            recall    = cf[1,1] / sum(cf[1,:])\n",
    "            f1_score  = 2*precision*recall / (precision + recall)\n",
    "            stats_text = \"\\n\\nAccuracy={:0.3f}\\nPrecision={:0.3f}\\nRecall={:0.3f}\\nF1 Score={:0.3f}\".format(\n",
    "                accuracy,precision,recall,f1_score)\n",
    "        else:\n",
    "            stats_text = \"\\n\\nAccuracy={:0.3f}\".format(accuracy)\n",
    "    else:\n",
    "        stats_text = \"\"\n",
    "\n",
    "\n",
    "    # SET FIGURE PARAMETERS ACCORDING TO OTHER ARGUMENTS\n",
    "    if figsize==None:\n",
    "        #Get default figure size if not set\n",
    "        figsize = plt.rcParams.get('figure.figsize')\n",
    "\n",
    "    if xyticks==False:\n",
    "        #Do not show categories if xyticks is False\n",
    "        categories=False\n",
    "\n",
    "\n",
    "    # MAKE THE HEATMAP VISUALIZATION\n",
    "    plt.figure(figsize=figsize)\n",
    "    sns.heatmap(cf,annot=box_labels,fmt=\"\",cmap=cmap,cbar=cbar,xticklabels=categories,yticklabels=categories)\n",
    "\n",
    "    if xyplotlabels:\n",
    "        plt.ylabel('True label')\n",
    "        plt.xlabel('Predicted label' + stats_text)\n",
    "    else:\n",
    "        plt.xlabel(stats_text)\n",
    "    \n",
    "    if title:\n",
    "        plt.title(title)"
   ]
  },
  {
   "cell_type": "code",
   "execution_count": 19,
   "id": "73ecefcb-34ec-4bb1-b631-7f23fc93a40f",
   "metadata": {},
   "outputs": [
    {
     "data": {
      "image/png": "[encoded data removed]",
      "text/plain": [
       "<Figure size 432x288 with 1 Axes>"
      ]
     },
     "metadata": {
      "needs_background": "light"
     },
     "output_type": "display_data"
    }
   ],
   "source": [
    "labels = ['True Neg','False Pos','False Neg','True Pos']\n",
    "categories = ['Home Improvement', 'Real Estate Investing']\n",
    "\n",
    "make_confusion_matrix(cf_matrix, \n",
    "                      group_names=labels,\n",
    "                      categories=categories, \n",
    "                      cmap='binary', \n",
    "                      cbar=False,\n",
    "                     title = 'Random Forest Classifier Model')\n",
    "\n",
    "plt.savefig(\"../../images/randforest_matrix.jpg\", bbox_inches=\"tight\", dpi=100);"
   ]
  },
  {
   "cell_type": "code",
   "execution_count": 14,
   "id": "ea1fc149-0a31-4c44-bd1d-2afb42fbaaa5",
   "metadata": {},
   "outputs": [
    {
     "name": "stdout",
     "output_type": "stream",
     "text": [
      "Train Score = 1.0\n",
      "Test Score = 0.9396984924623115\n",
      "Cross Val Score = 0.9426539858127325\n",
      "Accuracy Score = 0.9396984924623115\n",
      "Recall Score = 0.9494949494949495\n",
      "Precision Score = 0.9306930693069307\n",
      "Specificity Score = 0.93\n"
     ]
    }
   ],
   "source": [
    "trainscore = rs.score(X_train, y_train)\n",
    "testscore = rs.score(X_test, y_test)\n",
    "crossval = cross_val_score(rs, X_train, y_train).mean()\n",
    "preds = rs.predict(X_test)\n",
    "tn, fp, fn, tp = metrics.confusion_matrix(y_test, preds).ravel()\n",
    "recall = metrics.recall_score(y_test, preds)\n",
    "precision = metrics.precision_score(y_test, preds)\n",
    "accuracy = testscore\n",
    "specificity = tn / (tn + fp)\n",
    "\n",
    "print (f'Train Score = {trainscore}')\n",
    "print (f'Test Score = {testscore}')\n",
    "print (f'Cross Val Score = {crossval}')\n",
    "print (f'Accuracy Score = {testscore}')\n",
    "print (f'Recall Score = {recall}')\n",
    "print (f'Precision Score = {precision}')\n",
    "print (f'Specificity Score = {specificity}')"
   ]
  },
  {
   "cell_type": "markdown",
   "id": "cc26fc72-ced5-4cf7-99a3-13d25692ddd0",
   "metadata": {},
   "source": [
    "The Random Forest model has a slightly lower accuracy score of 94.0% versus the Logistic Regression score of 94.4%. This means that the model is 94.0% accurate at predicting which subreddit the text comes from, either Real Estate Investing or Home Improvement."
   ]
  },
  {
   "cell_type": "code",
   "execution_count": 20,
   "id": "dd5f8338-ef35-48ab-8da6-222042f01b0f",
   "metadata": {},
   "outputs": [
    {
     "data": {
      "text/plain": [
       "removed       0.034709\n",
       "property      0.025674\n",
       "imgur         0.025377\n",
       "com           0.022056\n",
       "http          0.018713\n",
       "wall          0.014989\n",
       "real          0.012943\n",
       "estate        0.012156\n",
       "rental        0.011959\n",
       "water         0.011228\n",
       "mortgage      0.010025\n",
       "rent          0.009611\n",
       "cash          0.009606\n",
       "investment    0.009103\n",
       "loan          0.007853\n",
       "installed     0.007763\n",
       "floor         0.007571\n",
       "replace       0.007164\n",
       "door          0.007102\n",
       "investing     0.006742\n",
       "window        0.006581\n",
       "market        0.006303\n",
       "room          0.006063\n",
       "wood          0.005918\n",
       "ceiling       0.005714\n",
       "dtype: float64"
      ]
     },
     "execution_count": 20,
     "metadata": {},
     "output_type": "execute_result"
    }
   ],
   "source": [
    "pd.Series(rs.best_estimator_.named_steps['forest'].feature_importances_, \n",
    "          index=rs.best_estimator_.named_steps['vect'].get_feature_names()).sort_values(ascending = False)[:25]"
   ]
  },
  {
   "cell_type": "markdown",
   "id": "a0a75032-340e-432f-a9ab-2ee2eb19eb75",
   "metadata": {},
   "source": [
    "The words that the random forest trees relyed on the most were 'removed', 'property', 'imgur', 'com', http', 'wall', and 'real'. That means that the trees relied on the word 'removed' 3.4% relative to the other features. These percentages are relative importance."
   ]
  },
  {
   "cell_type": "markdown",
   "id": "61506a03-10d4-4d1a-8965-ebc8e7fde2f0",
   "metadata": {},
   "source": [
    "## Probability DataFrame - Predictions vs Actual\n",
    "---\n",
    "The below is credited to Shania Thomas. The dataframe below show the probability for each subreddit on each document. The last dataframe shows the documents that received the *most* wrong probabilities. If time allows, I will dig into why these documents were possibly misclassified."
   ]
  },
  {
   "cell_type": "code",
   "execution_count": 16,
   "id": "f97b768b-bb7d-4188-967e-e3e627c415b9",
   "metadata": {},
   "outputs": [
    {
     "data": {
      "text/html": [
       "<div>\n",
       "<style scoped>\n",
       "    .dataframe tbody tr th:only-of-type {\n",
       "        vertical-align: middle;\n",
       "    }\n",
       "\n",
       "    .dataframe tbody tr th {\n",
       "        vertical-align: top;\n",
       "    }\n",
       "\n",
       "    .dataframe thead th {\n",
       "        text-align: right;\n",
       "    }\n",
       "</style>\n",
       "<table border=\"1\" class=\"dataframe\">\n",
       "  <thead>\n",
       "    <tr style=\"text-align: right;\">\n",
       "      <th></th>\n",
       "      <th>title_selftext</th>\n",
       "      <th>actual</th>\n",
       "      <th>predicted</th>\n",
       "      <th>P(r/HomeImprovement)</th>\n",
       "      <th>P(r/RealEstateInvesting)</th>\n",
       "      <th>Prob Diff</th>\n",
       "    </tr>\n",
       "  </thead>\n",
       "  <tbody>\n",
       "    <tr>\n",
       "      <th>1352</th>\n",
       "      <td>what kind of caulk for this window the caulk a...</td>\n",
       "      <td>0</td>\n",
       "      <td>0</td>\n",
       "      <td>0.96</td>\n",
       "      <td>0.04</td>\n",
       "      <td>0.92</td>\n",
       "    </tr>\n",
       "    <tr>\n",
       "      <th>33</th>\n",
       "      <td>need advice on adjustable sinki have seen adju...</td>\n",
       "      <td>0</td>\n",
       "      <td>0</td>\n",
       "      <td>0.66</td>\n",
       "      <td>0.34</td>\n",
       "      <td>0.32</td>\n",
       "    </tr>\n",
       "    <tr>\n",
       "      <th>519</th>\n",
       "      <td>plumbing in place before well and septic hooku...</td>\n",
       "      <td>0</td>\n",
       "      <td>0</td>\n",
       "      <td>0.69</td>\n",
       "      <td>0.31</td>\n",
       "      <td>0.38</td>\n",
       "    </tr>\n",
       "    <tr>\n",
       "      <th>464</th>\n",
       "      <td>what do you look for when you shop for a toile...</td>\n",
       "      <td>0</td>\n",
       "      <td>0</td>\n",
       "      <td>0.78</td>\n",
       "      <td>0.22</td>\n",
       "      <td>0.56</td>\n",
       "    </tr>\n",
       "    <tr>\n",
       "      <th>2064</th>\n",
       "      <td>what would make a better investment buying a r...</td>\n",
       "      <td>1</td>\n",
       "      <td>1</td>\n",
       "      <td>0.00</td>\n",
       "      <td>1.00</td>\n",
       "      <td>1.00</td>\n",
       "    </tr>\n",
       "    <tr>\n",
       "      <th>...</th>\n",
       "      <td>...</td>\n",
       "      <td>...</td>\n",
       "      <td>...</td>\n",
       "      <td>...</td>\n",
       "      <td>...</td>\n",
       "      <td>...</td>\n",
       "    </tr>\n",
       "    <tr>\n",
       "      <th>2949</th>\n",
       "      <td>auction title report insurancelocation nassau ...</td>\n",
       "      <td>1</td>\n",
       "      <td>1</td>\n",
       "      <td>0.28</td>\n",
       "      <td>0.72</td>\n",
       "      <td>0.44</td>\n",
       "    </tr>\n",
       "    <tr>\n",
       "      <th>1447</th>\n",
       "      <td>cleaning ductwork and asbestoshi there we have...</td>\n",
       "      <td>0</td>\n",
       "      <td>0</td>\n",
       "      <td>0.87</td>\n",
       "      <td>0.13</td>\n",
       "      <td>0.74</td>\n",
       "    </tr>\n",
       "    <tr>\n",
       "      <th>2530</th>\n",
       "      <td>looking to convert my duplex into a triplex se...</td>\n",
       "      <td>1</td>\n",
       "      <td>1</td>\n",
       "      <td>0.35</td>\n",
       "      <td>0.65</td>\n",
       "      <td>0.30</td>\n",
       "    </tr>\n",
       "    <tr>\n",
       "      <th>2224</th>\n",
       "      <td>beginner here so i inherited 2 condo 1 is rent...</td>\n",
       "      <td>1</td>\n",
       "      <td>1</td>\n",
       "      <td>0.17</td>\n",
       "      <td>0.83</td>\n",
       "      <td>0.66</td>\n",
       "    </tr>\n",
       "    <tr>\n",
       "      <th>3757</th>\n",
       "      <td>carrying a noteselling a property i own outrig...</td>\n",
       "      <td>1</td>\n",
       "      <td>1</td>\n",
       "      <td>0.11</td>\n",
       "      <td>0.89</td>\n",
       "      <td>0.78</td>\n",
       "    </tr>\n",
       "  </tbody>\n",
       "</table>\n",
       "<p>995 rows × 6 columns</p>\n",
       "</div>"
      ],
      "text/plain": [
       "                                         title_selftext  actual  predicted  \\\n",
       "1352  what kind of caulk for this window the caulk a...       0          0   \n",
       "33    need advice on adjustable sinki have seen adju...       0          0   \n",
       "519   plumbing in place before well and septic hooku...       0          0   \n",
       "464   what do you look for when you shop for a toile...       0          0   \n",
       "2064  what would make a better investment buying a r...       1          1   \n",
       "...                                                 ...     ...        ...   \n",
       "2949  auction title report insurancelocation nassau ...       1          1   \n",
       "1447  cleaning ductwork and asbestoshi there we have...       0          0   \n",
       "2530  looking to convert my duplex into a triplex se...       1          1   \n",
       "2224  beginner here so i inherited 2 condo 1 is rent...       1          1   \n",
       "3757  carrying a noteselling a property i own outrig...       1          1   \n",
       "\n",
       "      P(r/HomeImprovement)  P(r/RealEstateInvesting)  Prob Diff  \n",
       "1352                  0.96                      0.04       0.92  \n",
       "33                    0.66                      0.34       0.32  \n",
       "519                   0.69                      0.31       0.38  \n",
       "464                   0.78                      0.22       0.56  \n",
       "2064                  0.00                      1.00       1.00  \n",
       "...                    ...                       ...        ...  \n",
       "2949                  0.28                      0.72       0.44  \n",
       "1447                  0.87                      0.13       0.74  \n",
       "2530                  0.35                      0.65       0.30  \n",
       "2224                  0.17                      0.83       0.66  \n",
       "3757                  0.11                      0.89       0.78  \n",
       "\n",
       "[995 rows x 6 columns]"
      ]
     },
     "execution_count": 16,
     "metadata": {},
     "output_type": "execute_result"
    }
   ],
   "source": [
    "preds_df = pd.DataFrame({\n",
    "    'title_selftext' : X_test, \n",
    "    'actual' : y_test, \n",
    "    'predicted' : rs.predict(X_test),\n",
    "    'P(r/HomeImprovement)' : [i[0] for i in rs.predict_proba(X_test)],\n",
    "    'P(r/RealEstateInvesting)' : [i[1] for i in rs.predict_proba(X_test)]})\n",
    "preds_df['Prob Diff'] = np.abs(preds_df['P(r/RealEstateInvesting)'] - preds_df['P(r/HomeImprovement)'])\n",
    "preds_df"
   ]
  },
  {
   "cell_type": "code",
   "execution_count": 17,
   "id": "709dee62-1ed7-4649-a4af-17ea756e7567",
   "metadata": {},
   "outputs": [
    {
     "data": {
      "text/html": [
       "<div>\n",
       "<style scoped>\n",
       "    .dataframe tbody tr th:only-of-type {\n",
       "        vertical-align: middle;\n",
       "    }\n",
       "\n",
       "    .dataframe tbody tr th {\n",
       "        vertical-align: top;\n",
       "    }\n",
       "\n",
       "    .dataframe thead th {\n",
       "        text-align: right;\n",
       "    }\n",
       "</style>\n",
       "<table border=\"1\" class=\"dataframe\">\n",
       "  <thead>\n",
       "    <tr style=\"text-align: right;\">\n",
       "      <th></th>\n",
       "      <th>title_selftext</th>\n",
       "      <th>actual</th>\n",
       "      <th>predicted</th>\n",
       "      <th>P(r/HomeImprovement)</th>\n",
       "      <th>P(r/RealEstateInvesting)</th>\n",
       "      <th>Prob Diff</th>\n",
       "    </tr>\n",
       "  </thead>\n",
       "  <tbody>\n",
       "    <tr>\n",
       "      <th>474</th>\n",
       "      <td>gatgets you must have removed</td>\n",
       "      <td>0</td>\n",
       "      <td>1</td>\n",
       "      <td>0.00</td>\n",
       "      <td>1.00</td>\n",
       "      <td>1.00</td>\n",
       "    </tr>\n",
       "    <tr>\n",
       "      <th>403</th>\n",
       "      <td>5 amazing tool to make change your life 17 removed</td>\n",
       "      <td>0</td>\n",
       "      <td>1</td>\n",
       "      <td>0.05</td>\n",
       "      <td>0.95</td>\n",
       "      <td>0.90</td>\n",
       "    </tr>\n",
       "    <tr>\n",
       "      <th>784</th>\n",
       "      <td>aroma diffuser amp ionizer removed</td>\n",
       "      <td>0</td>\n",
       "      <td>1</td>\n",
       "      <td>0.08</td>\n",
       "      <td>0.92</td>\n",
       "      <td>0.84</td>\n",
       "    </tr>\n",
       "    <tr>\n",
       "      <th>1923</th>\n",
       "      <td>which candle jar to use for beginner candle maker removed</td>\n",
       "      <td>0</td>\n",
       "      <td>1</td>\n",
       "      <td>0.11</td>\n",
       "      <td>0.89</td>\n",
       "      <td>0.78</td>\n",
       "    </tr>\n",
       "    <tr>\n",
       "      <th>527</th>\n",
       "      <td>major painting mistake that s not even my fault roll with it or start over removed</td>\n",
       "      <td>0</td>\n",
       "      <td>1</td>\n",
       "      <td>0.11</td>\n",
       "      <td>0.89</td>\n",
       "      <td>0.78</td>\n",
       "    </tr>\n",
       "    <tr>\n",
       "      <th>687</th>\n",
       "      <td>anybody know removed</td>\n",
       "      <td>0</td>\n",
       "      <td>1</td>\n",
       "      <td>0.12</td>\n",
       "      <td>0.88</td>\n",
       "      <td>0.76</td>\n",
       "    </tr>\n",
       "    <tr>\n",
       "      <th>124</th>\n",
       "      <td>real estate developerthinking about going into real estate development but have no clue where to start anyone able to give some suggestion on where to start</td>\n",
       "      <td>0</td>\n",
       "      <td>1</td>\n",
       "      <td>0.19</td>\n",
       "      <td>0.81</td>\n",
       "      <td>0.62</td>\n",
       "    </tr>\n",
       "    <tr>\n",
       "      <th>2918</th>\n",
       "      <td>what improvement are good for creating the sense that a house is high end let s say i have a house that currently appraises around 700 800k usd in a desirable southwestern retirement location what sort of touch can help improve the sale price and give the impression that the buyer is looking at a high end house i am thinking thing like wood look garage door tile flooring natural wood door plank ceiling</td>\n",
       "      <td>1</td>\n",
       "      <td>0</td>\n",
       "      <td>0.76</td>\n",
       "      <td>0.24</td>\n",
       "      <td>0.52</td>\n",
       "    </tr>\n",
       "    <tr>\n",
       "      <th>3892</th>\n",
       "      <td>is gold silver or black hardware better for resale renting out we are going to start renovation on our home soon and we will need new hardware and the like think faucet pull shower head etc personally i love gold brass but i don t want to go too personalized since this isn t our forever home and i don t want to shell out for custom stuff that i won t take with our fancy fridge we will keep in the house is silver while the dishwasher and oven are white but will be replaced so is it better to do silver black or gold</td>\n",
       "      <td>1</td>\n",
       "      <td>0</td>\n",
       "      <td>0.84</td>\n",
       "      <td>0.16</td>\n",
       "      <td>0.68</td>\n",
       "    </tr>\n",
       "  </tbody>\n",
       "</table>\n",
       "</div>"
      ],
      "text/plain": [
       "                                                                                                                                                                                                                                                                                                                                                                                                                                                                                                                               title_selftext  \\\n",
       "474                                                                                                                                                                                                                                                                                                                                                                                                                                                                                                             gatgets you must have removed   \n",
       "403                                                                                                                                                                                                                                                                                                                                                                                                                                                                                        5 amazing tool to make change your life 17 removed   \n",
       "784                                                                                                                                                                                                                                                                                                                                                                                                                                                                                                        aroma diffuser amp ionizer removed   \n",
       "1923                                                                                                                                                                                                                                                                                                                                                                                                                                                                                which candle jar to use for beginner candle maker removed   \n",
       "527                                                                                                                                                                                                                                                                                                                                                                                                                                                        major painting mistake that s not even my fault roll with it or start over removed   \n",
       "687                                                                                                                                                                                                                                                                                                                                                                                                                                                                                                                      anybody know removed   \n",
       "124                                                                                                                                                                                                                                                                                                                                                                              real estate developerthinking about going into real estate development but have no clue where to start anyone able to give some suggestion on where to start   \n",
       "2918                                                                                                                    what improvement are good for creating the sense that a house is high end let s say i have a house that currently appraises around 700 800k usd in a desirable southwestern retirement location what sort of touch can help improve the sale price and give the impression that the buyer is looking at a high end house i am thinking thing like wood look garage door tile flooring natural wood door plank ceiling   \n",
       "3892  is gold silver or black hardware better for resale renting out we are going to start renovation on our home soon and we will need new hardware and the like think faucet pull shower head etc personally i love gold brass but i don t want to go too personalized since this isn t our forever home and i don t want to shell out for custom stuff that i won t take with our fancy fridge we will keep in the house is silver while the dishwasher and oven are white but will be replaced so is it better to do silver black or gold   \n",
       "\n",
       "      actual  predicted  P(r/HomeImprovement)  P(r/RealEstateInvesting)  \\\n",
       "474        0          1                  0.00                      1.00   \n",
       "403        0          1                  0.05                      0.95   \n",
       "784        0          1                  0.08                      0.92   \n",
       "1923       0          1                  0.11                      0.89   \n",
       "527        0          1                  0.11                      0.89   \n",
       "687        0          1                  0.12                      0.88   \n",
       "124        0          1                  0.19                      0.81   \n",
       "2918       1          0                  0.76                      0.24   \n",
       "3892       1          0                  0.84                      0.16   \n",
       "\n",
       "      Prob Diff  \n",
       "474        1.00  \n",
       "403        0.90  \n",
       "784        0.84  \n",
       "1923       0.78  \n",
       "527        0.78  \n",
       "687        0.76  \n",
       "124        0.62  \n",
       "2918       0.52  \n",
       "3892       0.68  "
      ]
     },
     "execution_count": 17,
     "metadata": {},
     "output_type": "execute_result"
    }
   ],
   "source": [
    "pd.set_option('display.max_colwidth', None)\n",
    "wrong_preds_df = preds_df[preds_df['actual']!=preds_df['predicted']]\n",
    "very_wrong_preds_df = wrong_preds_df[wrong_preds_df['Prob Diff']>0.5]\n",
    "very_wrong_preds_df.sort_values(by='P(r/RealEstateInvesting)', ascending=False).head(10)"
   ]
  },
  {
   "cell_type": "markdown",
   "id": "b2af8fd1-93df-4309-a619-3fbffd1e1259",
   "metadata": {},
   "source": [
    "It's interesting that the first 6 title_selftext have the word removed and they are all incorrectly labeled. The random tree model must think that the word 'removed' classifies as Real Estate Investing. I would assume without the model that the word 'removed' would have to do with Home Improvement."
   ]
  },
  {
   "cell_type": "code",
   "execution_count": null,
   "id": "eb1a59ef-d71e-4a04-bd0e-acfe7f5d2d7f",
   "metadata": {},
   "outputs": [],
   "source": []
  }
 ],
 "metadata": {
  "kernelspec": {
   "display_name": "Python 3 (ipykernel)",
   "language": "python",
   "name": "python3"
  },
  "language_info": {
   "codemirror_mode": {
    "name": "ipython",
    "version": 3
   },
   "file_extension": ".py",
   "mimetype": "text/x-python",
   "name": "python",
   "nbconvert_exporter": "python",
   "pygments_lexer": "ipython3",
   "version": "3.9.7"
  }
 },
 "nbformat": 4,
 "nbformat_minor": 5
}
