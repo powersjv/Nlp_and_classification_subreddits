{
 "cells": [
  {
   "cell_type": "markdown",
   "id": "be290856-1857-40c7-89f4-80aa49af8604",
   "metadata": {},
   "source": [
    "# Modeling\n",
    "___\n",
    "\n",
    "Below is a Logisitc Regression Model using a Pipeline and Count Vectorization. Accuracy = 91.3%.\n",
    "\n",
    "---\n",
    "\n",
    "### Import Libraries"
   ]
  },
  {
   "cell_type": "code",
   "execution_count": 1,
   "id": "1b6b72bc-8aad-4721-aaf5-1d34ee22c67d",
   "metadata": {},
   "outputs": [],
   "source": [
    "import pandas as pd\n",
    "import numpy as np\n",
    "import seaborn as sns\n",
    "import matplotlib.pyplot as plt\n",
    "\n",
    "from sklearn.linear_model import LogisticRegression\n",
    "from sklearn.feature_extraction.text import CountVectorizer, TfidfVectorizer\n",
    "from sklearn.pipeline import Pipeline\n",
    "from sklearn.model_selection import train_test_split, GridSearchCV, cross_val_score\n",
    "from sklearn.metrics import plot_confusion_matrix\n",
    "import sklearn.metrics as metrics"
   ]
  },
  {
   "cell_type": "markdown",
   "id": "bb90739e-854f-4ec4-a157-d7b97b086a45",
   "metadata": {},
   "source": [
    "## Load the data\n",
    "---"
   ]
  },
  {
   "cell_type": "code",
   "execution_count": 2,
   "id": "751e0380-cf91-4566-8062-a8b7849af445",
   "metadata": {},
   "outputs": [
    {
     "data": {
      "text/html": [
       "<div>\n",
       "<style scoped>\n",
       "    .dataframe tbody tr th:only-of-type {\n",
       "        vertical-align: middle;\n",
       "    }\n",
       "\n",
       "    .dataframe tbody tr th {\n",
       "        vertical-align: top;\n",
       "    }\n",
       "\n",
       "    .dataframe thead th {\n",
       "        text-align: right;\n",
       "    }\n",
       "</style>\n",
       "<table border=\"1\" class=\"dataframe\">\n",
       "  <thead>\n",
       "    <tr style=\"text-align: right;\">\n",
       "      <th></th>\n",
       "      <th>author</th>\n",
       "      <th>title</th>\n",
       "      <th>selftext</th>\n",
       "      <th>created_utc</th>\n",
       "      <th>title_length</th>\n",
       "      <th>title_word_count</th>\n",
       "      <th>subreddit_target</th>\n",
       "    </tr>\n",
       "  </thead>\n",
       "  <tbody>\n",
       "    <tr>\n",
       "      <th>0</th>\n",
       "      <td>RealDaveCorey</td>\n",
       "      <td>Trying to straighten my leaning garage, was th...</td>\n",
       "      <td>Hi, I'm looking at torturing my leaning garage...</td>\n",
       "      <td>1645985955</td>\n",
       "      <td>78</td>\n",
       "      <td>12</td>\n",
       "      <td>0</td>\n",
       "    </tr>\n",
       "    <tr>\n",
       "      <th>1</th>\n",
       "      <td>ZeroCool1</td>\n",
       "      <td>Thoughts from two years into purchasing a fixe...</td>\n",
       "      <td>A few random thoughts after I've wrestled with...</td>\n",
       "      <td>1645985873</td>\n",
       "      <td>53</td>\n",
       "      <td>9</td>\n",
       "      <td>0</td>\n",
       "    </tr>\n",
       "    <tr>\n",
       "      <th>2</th>\n",
       "      <td>gwenstellamade</td>\n",
       "      <td>HELP! Fireplace contractors screwed up the job</td>\n",
       "      <td>So, I’m in a bit of a pickle with my current f...</td>\n",
       "      <td>1645985865</td>\n",
       "      <td>46</td>\n",
       "      <td>7</td>\n",
       "      <td>0</td>\n",
       "    </tr>\n",
       "    <tr>\n",
       "      <th>3</th>\n",
       "      <td>happybaconbit</td>\n",
       "      <td>Kitchen cabinet track is broken. How do I fix it?</td>\n",
       "      <td>Photo: https://imgur.com/a/XgNq0iG \\n\\nIt’s be...</td>\n",
       "      <td>1645985826</td>\n",
       "      <td>49</td>\n",
       "      <td>10</td>\n",
       "      <td>0</td>\n",
       "    </tr>\n",
       "    <tr>\n",
       "      <th>4</th>\n",
       "      <td>stonetime10</td>\n",
       "      <td>OTR microwave with stud In the way</td>\n",
       "      <td>Hello everyone,\\nI am almost finished my basem...</td>\n",
       "      <td>1645985457</td>\n",
       "      <td>34</td>\n",
       "      <td>7</td>\n",
       "      <td>0</td>\n",
       "    </tr>\n",
       "  </tbody>\n",
       "</table>\n",
       "</div>"
      ],
      "text/plain": [
       "           author                                              title  \\\n",
       "0   RealDaveCorey  Trying to straighten my leaning garage, was th...   \n",
       "1       ZeroCool1  Thoughts from two years into purchasing a fixe...   \n",
       "2  gwenstellamade     HELP! Fireplace contractors screwed up the job   \n",
       "3   happybaconbit  Kitchen cabinet track is broken. How do I fix it?   \n",
       "4     stonetime10                 OTR microwave with stud In the way   \n",
       "\n",
       "                                            selftext  created_utc  \\\n",
       "0  Hi, I'm looking at torturing my leaning garage...   1645985955   \n",
       "1  A few random thoughts after I've wrestled with...   1645985873   \n",
       "2  So, I’m in a bit of a pickle with my current f...   1645985865   \n",
       "3  Photo: https://imgur.com/a/XgNq0iG \\n\\nIt’s be...   1645985826   \n",
       "4  Hello everyone,\\nI am almost finished my basem...   1645985457   \n",
       "\n",
       "   title_length  title_word_count  subreddit_target  \n",
       "0            78                12                 0  \n",
       "1            53                 9                 0  \n",
       "2            46                 7                 0  \n",
       "3            49                10                 0  \n",
       "4            34                 7                 0  "
      ]
     },
     "execution_count": 2,
     "metadata": {},
     "output_type": "execute_result"
    }
   ],
   "source": [
    "df = pd.read_csv('../../data/data_clean_20220227-141901.csv')\n",
    "df.drop(columns = 'Unnamed: 0', inplace=True)\n",
    "df.head()"
   ]
  },
  {
   "cell_type": "markdown",
   "id": "29175f74-9def-4a67-b6e4-9b64cc9040b7",
   "metadata": {},
   "source": [
    "## Create X and y\n",
    "---"
   ]
  },
  {
   "cell_type": "code",
   "execution_count": 3,
   "id": "56c7dd93-4657-4b73-acc2-5537e6750c45",
   "metadata": {},
   "outputs": [
    {
     "data": {
      "text/plain": [
       "0    Trying to straighten my leaning garage, was th...\n",
       "1    Thoughts from two years into purchasing a fixe...\n",
       "2       HELP! Fireplace contractors screwed up the job\n",
       "3    Kitchen cabinet track is broken. How do I fix it?\n",
       "4                   OTR microwave with stud In the way\n",
       "Name: title, dtype: object"
      ]
     },
     "execution_count": 3,
     "metadata": {},
     "output_type": "execute_result"
    }
   ],
   "source": [
    "X = df['title']\n",
    "X.head()"
   ]
  },
  {
   "cell_type": "code",
   "execution_count": 4,
   "id": "24c30602-6fff-4a25-8bd1-397d555fc3a3",
   "metadata": {},
   "outputs": [],
   "source": [
    "y = df['subreddit_target']"
   ]
  },
  {
   "cell_type": "markdown",
   "id": "fe67d246-c5b3-4c61-9e03-f04f265a0c1a",
   "metadata": {},
   "source": [
    "## Baseline Accuracy\n",
    "---"
   ]
  },
  {
   "cell_type": "code",
   "execution_count": 5,
   "id": "1fa44bfb-5fa6-42ba-a458-943701293a94",
   "metadata": {},
   "outputs": [
    {
     "data": {
      "text/plain": [
       "0    0.502137\n",
       "1    0.497863\n",
       "Name: subreddit_target, dtype: float64"
      ]
     },
     "execution_count": 5,
     "metadata": {},
     "output_type": "execute_result"
    }
   ],
   "source": [
    "y.value_counts(normalize = True)"
   ]
  },
  {
   "cell_type": "markdown",
   "id": "271343eb-22ed-4c1d-bf42-de2759c03b31",
   "metadata": {},
   "source": [
    "It is essentially a 50/50 split. There is a slight preference towards HomeImprovement. So the baseline/null model will predict HomeImprovement and be accurate about 50% of the time. "
   ]
  },
  {
   "cell_type": "markdown",
   "id": "b3e91272-ab44-4010-a795-ba0868d95b41",
   "metadata": {},
   "source": [
    "## Train - Test Split\n",
    "---"
   ]
  },
  {
   "cell_type": "code",
   "execution_count": 6,
   "id": "a489281a-a065-4bbf-b7b5-1cca9a12823b",
   "metadata": {},
   "outputs": [],
   "source": [
    "X_train, X_test, y_train, y_test = train_test_split(X, y, random_state = 33, stratify = y)"
   ]
  },
  {
   "cell_type": "markdown",
   "id": "d023475d-2385-4e2b-a09c-079872c7a31c",
   "metadata": {},
   "source": [
    "Want to keep the split to about 50/50 for the model, hence why this is being stratified."
   ]
  },
  {
   "cell_type": "markdown",
   "id": "6d924906-cdd5-40fa-a6f7-4cbd29412ec9",
   "metadata": {},
   "source": [
    "## Pipeline\n",
    "---\n",
    "Will start with a pipeline including Count Vectorization and a logistic regresison model."
   ]
  },
  {
   "cell_type": "code",
   "execution_count": 7,
   "id": "aad7a3e2-58bb-4604-bace-f28579e69e0f",
   "metadata": {},
   "outputs": [],
   "source": [
    "pipe = Pipeline([\n",
    "    ('vect', CountVectorizer()),\n",
    "    ('logreg', LogisticRegression(solver = 'liblinear'))\n",
    "])"
   ]
  },
  {
   "cell_type": "markdown",
   "id": "c1be6b22-8baf-4660-a727-8b00a989f6e7",
   "metadata": {},
   "source": [
    "## GridSearchCV\n",
    "___"
   ]
  },
  {
   "cell_type": "code",
   "execution_count": 10,
   "id": "c913407d-33b1-4a7d-9a74-e68b49e2df5e",
   "metadata": {},
   "outputs": [
    {
     "name": "stdout",
     "output_type": "stream",
     "text": [
      "0.9161641541038525\n"
     ]
    },
    {
     "data": {
      "text/plain": [
       "{'logreg__penalty': 'l2',\n",
       " 'vect__binary': False,\n",
       " 'vect__max_df': 1.0,\n",
       " 'vect__max_features': 3000,\n",
       " 'vect__min_df': 1,\n",
       " 'vect__ngram_range': (1, 3),\n",
       " 'vect__stop_words': 'english'}"
      ]
     },
     "execution_count": 10,
     "metadata": {},
     "output_type": "execute_result"
    }
   ],
   "source": [
    "params ={\n",
    "    'vect__stop_words': ['english'], #removed none\n",
    "    'vect__min_df': range(1, 10, 2), \n",
    "    'vect__max_df': [1.0, 0.75, 0.5, 0.25], \n",
    "    'vect__binary': [True, False],\n",
    "    'vect__ngram_range':[(1,3)], #removed (1,1) and (1,2)\n",
    "    'vect__max_features': [1000, 1500, 2000, 3000, 4000],\n",
    "    'logreg__penalty': ['l2'] #took out l1.\n",
    "}\n",
    "\n",
    "gs = GridSearchCV(pipe,\n",
    "                 param_grid=params)\n",
    "\n",
    "gs.fit(X_train, y_train)\n",
    "print(gs.best_score_) \n",
    "gs.best_params_"
   ]
  },
  {
   "cell_type": "markdown",
   "id": "e351c2ec-ffe6-4671-91d4-778e7abb51cd",
   "metadata": {},
   "source": [
    "Elasticnet is below. Ran this with a l1 ratio of 0.5. The score was not as good as the l2 model above. Going to comment out becuase there were many convergence warnings. "
   ]
  },
  {
   "cell_type": "code",
   "execution_count": 9,
   "id": "203693cc-246a-4744-a405-f508d8218405",
   "metadata": {},
   "outputs": [],
   "source": [
    "# pipe1 = Pipeline([\n",
    "#     ('vect', CountVectorizer()),\n",
    "#     ('logreg', LogisticRegression(solver = 'saga'))\n",
    "# ])"
   ]
  },
  {
   "cell_type": "code",
   "execution_count": 10,
   "id": "168434bb-c709-4679-821d-31b33f0e784b",
   "metadata": {},
   "outputs": [],
   "source": [
    "# params1 ={\n",
    "#     'vect__stop_words': [None, 'english'], \n",
    "#     'vect__min_df': range(1, 10, 2), \n",
    "#     'vect__max_df': [1.0, 0.75, 0.5, 0.25], \n",
    "#     'vect__binary': [True, False],\n",
    "#     'logreg__penalty': ['elasticnet'],\n",
    "#     'logreg__l1_ratio': [0.5]\n",
    "# }\n",
    "\n",
    "# gs1 = GridSearchCV(pipe1,\n",
    "#                  param_grid=params1)\n",
    "\n",
    "# gs1.fit(X_train, y_train)\n",
    "# print(gs1.best_score_) \n",
    "# gs1.best_params_"
   ]
  },
  {
   "cell_type": "markdown",
   "id": "63a9e38a-8bfd-4cbb-aa09-2b318f67d510",
   "metadata": {},
   "source": [
    "## Model Evaluation\n",
    "---\n",
    "\n",
    "Using the GridSearch model above. "
   ]
  },
  {
   "cell_type": "code",
   "execution_count": 11,
   "id": "9bf6b0c2-29e2-446b-844b-d1bc2b689e0b",
   "metadata": {},
   "outputs": [
    {
     "data": {
      "text/plain": [
       "<sklearn.metrics._plot.confusion_matrix.ConfusionMatrixDisplay at 0x7fb036a679a0>"
      ]
     },
     "execution_count": 11,
     "metadata": {},
     "output_type": "execute_result"
    },
    {
     "data": {
      "image/png": "[encoded data removed]",
      "text/plain": [
       "<Figure size 432x288 with 2 Axes>"
      ]
     },
     "metadata": {
      "needs_background": "light"
     },
     "output_type": "display_data"
    }
   ],
   "source": [
    "plot_confusion_matrix(gs, X_test, y_test, display_labels= ['Home Improvement', 'Real Estate Investing'])"
   ]
  },
  {
   "cell_type": "code",
   "execution_count": 12,
   "id": "ea1fc149-0a31-4c44-bd1d-2afb42fbaaa5",
   "metadata": {},
   "outputs": [
    {
     "name": "stdout",
     "output_type": "stream",
     "text": [
      "Train Score = 0.9892689470154259\n",
      "Test Score = 0.91356783919598\n",
      "Cross Val Score = 0.925553944217733\n",
      "Accuracy Score = 0.91356783919598\n",
      "Recall Score = 0.9272727272727272\n",
      "Precision Score = 0.9017681728880157\n",
      "Specificity Score = 0.9\n"
     ]
    }
   ],
   "source": [
    "trainscore = gs.score(X_train, y_train)\n",
    "testscore = gs.score(X_test, y_test)\n",
    "crossval = cross_val_score(gs, X_train, y_train).mean()\n",
    "preds = gs.predict(X_test)\n",
    "tn, fp, fn, tp = metrics.confusion_matrix(y_test, preds).ravel()\n",
    "recall = metrics.recall_score(y_test, preds)\n",
    "precision = metrics.precision_score(y_test, preds)\n",
    "accuracy = testscore\n",
    "specificity = tn / (tn + fp)\n",
    "\n",
    "print (f'Train Score = {trainscore}')\n",
    "print (f'Test Score = {testscore}')\n",
    "print (f'Cross Val Score = {crossval}')\n",
    "print (f'Accuracy Score = {testscore}')\n",
    "print (f'Recall Score = {recall}')\n",
    "print (f'Precision Score = {precision}')\n",
    "print (f'Specificity Score = {specificity}')"
   ]
  },
  {
   "cell_type": "code",
   "execution_count": null,
   "id": "39c0710a-d4d7-4c47-9a10-c82b4a00ccba",
   "metadata": {},
   "outputs": [],
   "source": []
  }
 ],
 "metadata": {
  "kernelspec": {
   "display_name": "Python 3 (ipykernel)",
   "language": "python",
   "name": "python3"
  },
  "language_info": {
   "codemirror_mode": {
    "name": "ipython",
    "version": 3
   },
   "file_extension": ".py",
   "mimetype": "text/x-python",
   "name": "python",
   "nbconvert_exporter": "python",
   "pygments_lexer": "ipython3",
   "version": "3.9.7"
  }
 },
 "nbformat": 4,
 "nbformat_minor": 5
}
